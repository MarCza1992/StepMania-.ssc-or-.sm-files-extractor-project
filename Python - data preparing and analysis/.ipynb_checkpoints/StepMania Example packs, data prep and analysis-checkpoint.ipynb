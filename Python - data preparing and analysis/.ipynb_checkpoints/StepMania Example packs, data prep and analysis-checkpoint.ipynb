{
 "cells": [
  {
   "cell_type": "markdown",
   "id": "3b0833de-7bae-4ee7-b137-882e5bfb02b9",
   "metadata": {
    "jp-MarkdownHeadingCollapsed": true
   },
   "source": [
    "# Libraries"
   ]
  },
  {
   "cell_type": "code",
   "execution_count": 67,
   "id": "bc4fdc02-0949-4813-bc8c-887b25bdba64",
   "metadata": {},
   "outputs": [],
   "source": [
    "import os\n",
    "import pandas as pd\n",
    "import numpy as np\n",
    "import matplotlib.pyplot as plt\n",
    "import seaborn as sns"
   ]
  },
  {
   "cell_type": "markdown",
   "id": "c2b34974-f22f-4876-a0a4-ca695838b444",
   "metadata": {
    "jp-MarkdownHeadingCollapsed": true
   },
   "source": [
    "# Importing Data"
   ]
  },
  {
   "cell_type": "markdown",
   "id": "705c6207-c1da-45b0-8b77-7e88bc361b6a",
   "metadata": {
    "jp-MarkdownHeadingCollapsed": true
   },
   "source": [
    "## Import ChartsData.txt"
   ]
  },
  {
   "cell_type": "code",
   "execution_count": 68,
   "id": "81dbc021-7ce8-41ff-9fc5-cbd8cc8db1d0",
   "metadata": {
    "scrolled": true
   },
   "outputs": [
    {
     "name": "stdout",
     "output_type": "stream",
     "text": [
      "<class 'pandas.core.frame.DataFrame'>\n",
      "RangeIndex: 1249 entries, 0 to 1248\n",
      "Data columns (total 12 columns):\n",
      " #   Column              Non-Null Count  Dtype \n",
      "---  ------              --------------  ----- \n",
      " 0   Chart_ID            1249 non-null   int64 \n",
      " 1   Song_Title          1249 non-null   object\n",
      " 2   Song_Subtitle       1249 non-null   object\n",
      " 3   Song_Artist         1249 non-null   object\n",
      " 4   Song_Length         1249 non-null   int64 \n",
      " 5   Song_BPM            1249 non-null   object\n",
      " 6   Technical_Notation  1249 non-null   object\n",
      " 7   Difficulty_Name     1249 non-null   object\n",
      " 8   Difficulty_Rating   1249 non-null   int64 \n",
      " 9   Step_Artist         1249 non-null   object\n",
      " 10  Pack                1249 non-null   object\n",
      " 11  Type                1249 non-null   object\n",
      "dtypes: int64(3), object(9)\n",
      "memory usage: 117.2+ KB\n",
      "None\n"
     ]
    },
    {
     "data": {
      "text/html": [
       "<div>\n",
       "<style scoped>\n",
       "    .dataframe tbody tr th:only-of-type {\n",
       "        vertical-align: middle;\n",
       "    }\n",
       "\n",
       "    .dataframe tbody tr th {\n",
       "        vertical-align: top;\n",
       "    }\n",
       "\n",
       "    .dataframe thead th {\n",
       "        text-align: right;\n",
       "    }\n",
       "</style>\n",
       "<table border=\"1\" class=\"dataframe\">\n",
       "  <thead>\n",
       "    <tr style=\"text-align: right;\">\n",
       "      <th></th>\n",
       "      <th>Chart_ID</th>\n",
       "      <th>Song_Title</th>\n",
       "      <th>Song_Subtitle</th>\n",
       "      <th>Song_Artist</th>\n",
       "      <th>Song_Length</th>\n",
       "      <th>Song_BPM</th>\n",
       "      <th>Technical_Notation</th>\n",
       "      <th>Difficulty_Name</th>\n",
       "      <th>Difficulty_Rating</th>\n",
       "      <th>Step_Artist</th>\n",
       "      <th>Pack</th>\n",
       "      <th>Type</th>\n",
       "    </tr>\n",
       "  </thead>\n",
       "  <tbody>\n",
       "    <tr>\n",
       "      <th>939</th>\n",
       "      <td>940</td>\n",
       "      <td>Kitsune no Yomeiri</td>\n",
       "      <td></td>\n",
       "      <td>Masa</td>\n",
       "      <td>154</td>\n",
       "      <td>240,00</td>\n",
       "      <td></td>\n",
       "      <td>Hard</td>\n",
       "      <td>12</td>\n",
       "      <td>Ziemniax &amp; Kacpi</td>\n",
       "      <td>Paczka Ziemniaczka v2</td>\n",
       "      <td>single</td>\n",
       "    </tr>\n",
       "    <tr>\n",
       "      <th>865</th>\n",
       "      <td>866</td>\n",
       "      <td>Workaholic</td>\n",
       "      <td></td>\n",
       "      <td>midy feat. Kosuzu</td>\n",
       "      <td>136</td>\n",
       "      <td>146,00</td>\n",
       "      <td>FS DS KS</td>\n",
       "      <td>Challenge</td>\n",
       "      <td>11</td>\n",
       "      <td>Exschwasion</td>\n",
       "      <td>Egg Carton 3</td>\n",
       "      <td>single</td>\n",
       "    </tr>\n",
       "    <tr>\n",
       "      <th>495</th>\n",
       "      <td>496</td>\n",
       "      <td>Donkey Stomp</td>\n",
       "      <td></td>\n",
       "      <td>GOLEMM x BUGCORE</td>\n",
       "      <td>137</td>\n",
       "      <td>130,00</td>\n",
       "      <td></td>\n",
       "      <td>Beginner</td>\n",
       "      <td>1</td>\n",
       "      <td>Exschwasion</td>\n",
       "      <td>Egg Carton 2</td>\n",
       "      <td>single</td>\n",
       "    </tr>\n",
       "    <tr>\n",
       "      <th>840</th>\n",
       "      <td>841</td>\n",
       "      <td>Whipdash</td>\n",
       "      <td></td>\n",
       "      <td>Sixtroke</td>\n",
       "      <td>142</td>\n",
       "      <td>150,00</td>\n",
       "      <td></td>\n",
       "      <td>Easy</td>\n",
       "      <td>4</td>\n",
       "      <td>Exschwasion</td>\n",
       "      <td>Egg Carton 3</td>\n",
       "      <td>single</td>\n",
       "    </tr>\n",
       "    <tr>\n",
       "      <th>959</th>\n",
       "      <td>960</td>\n",
       "      <td>Energy Flower 3007</td>\n",
       "      <td></td>\n",
       "      <td>r300k</td>\n",
       "      <td>125</td>\n",
       "      <td>133,00</td>\n",
       "      <td></td>\n",
       "      <td>Challenge</td>\n",
       "      <td>11</td>\n",
       "      <td>underjoy</td>\n",
       "      <td>Paczka Ziemniaczka v2</td>\n",
       "      <td>single</td>\n",
       "    </tr>\n",
       "    <tr>\n",
       "      <th>811</th>\n",
       "      <td>812</td>\n",
       "      <td>Tell Me</td>\n",
       "      <td></td>\n",
       "      <td>Tatsunoshin</td>\n",
       "      <td>127</td>\n",
       "      <td>172,00</td>\n",
       "      <td>BR FS XO</td>\n",
       "      <td>Hard</td>\n",
       "      <td>11</td>\n",
       "      <td>Exschwasion</td>\n",
       "      <td>Egg Carton 3</td>\n",
       "      <td>single</td>\n",
       "    </tr>\n",
       "    <tr>\n",
       "      <th>1140</th>\n",
       "      <td>1141</td>\n",
       "      <td>Latent Kingdom</td>\n",
       "      <td>(Extended)</td>\n",
       "      <td>Laur vs Oguni Kanon</td>\n",
       "      <td>300</td>\n",
       "      <td>175,00 - 201,00</td>\n",
       "      <td>SPD BXF DS BU BT SS-</td>\n",
       "      <td>Challenge</td>\n",
       "      <td>13</td>\n",
       "      <td>Tidek</td>\n",
       "      <td>The Abyss of Despair</td>\n",
       "      <td>single</td>\n",
       "    </tr>\n",
       "    <tr>\n",
       "      <th>1021</th>\n",
       "      <td>1022</td>\n",
       "      <td>Dancing Samurai</td>\n",
       "      <td></td>\n",
       "      <td>Gakupo</td>\n",
       "      <td>137</td>\n",
       "      <td>142,00</td>\n",
       "      <td></td>\n",
       "      <td>Beginner</td>\n",
       "      <td>3</td>\n",
       "      <td>Rikame</td>\n",
       "      <td>Rikame's Simfiles</td>\n",
       "      <td>single</td>\n",
       "    </tr>\n",
       "    <tr>\n",
       "      <th>500</th>\n",
       "      <td>501</td>\n",
       "      <td>Fidget Dancer</td>\n",
       "      <td></td>\n",
       "      <td>nora2r</td>\n",
       "      <td>136</td>\n",
       "      <td>175,00</td>\n",
       "      <td></td>\n",
       "      <td>Beginner</td>\n",
       "      <td>2</td>\n",
       "      <td>Exschwasion</td>\n",
       "      <td>Egg Carton 2</td>\n",
       "      <td>single</td>\n",
       "    </tr>\n",
       "    <tr>\n",
       "      <th>963</th>\n",
       "      <td>964</td>\n",
       "      <td>No title</td>\n",
       "      <td></td>\n",
       "      <td>REOL</td>\n",
       "      <td>91</td>\n",
       "      <td>200,02</td>\n",
       "      <td></td>\n",
       "      <td>Hard</td>\n",
       "      <td>9</td>\n",
       "      <td>underjoy</td>\n",
       "      <td>Paczka Ziemniaczka v2</td>\n",
       "      <td>single</td>\n",
       "    </tr>\n",
       "  </tbody>\n",
       "</table>\n",
       "</div>"
      ],
      "text/plain": [
       "      Chart_ID          Song_Title Song_Subtitle          Song_Artist  \\\n",
       "939        940  Kitsune no Yomeiri                               Masa   \n",
       "865        866          Workaholic                  midy feat. Kosuzu   \n",
       "495        496        Donkey Stomp                   GOLEMM x BUGCORE   \n",
       "840        841            Whipdash                           Sixtroke   \n",
       "959        960  Energy Flower 3007                              r300k   \n",
       "811        812             Tell Me                        Tatsunoshin   \n",
       "1140      1141      Latent Kingdom    (Extended)  Laur vs Oguni Kanon   \n",
       "1021      1022     Dancing Samurai                             Gakupo   \n",
       "500        501       Fidget Dancer                             nora2r   \n",
       "963        964            No title                               REOL   \n",
       "\n",
       "      Song_Length         Song_BPM    Technical_Notation Difficulty_Name  \\\n",
       "939           154           240,00                                  Hard   \n",
       "865           136           146,00              FS DS KS       Challenge   \n",
       "495           137           130,00                              Beginner   \n",
       "840           142           150,00                                  Easy   \n",
       "959           125           133,00                             Challenge   \n",
       "811           127           172,00              BR FS XO            Hard   \n",
       "1140          300  175,00 - 201,00  SPD BXF DS BU BT SS-       Challenge   \n",
       "1021          137           142,00                              Beginner   \n",
       "500           136           175,00                              Beginner   \n",
       "963            91           200,02                                  Hard   \n",
       "\n",
       "      Difficulty_Rating       Step_Artist                   Pack    Type  \n",
       "939                  12  Ziemniax & Kacpi  Paczka Ziemniaczka v2  single  \n",
       "865                  11       Exschwasion           Egg Carton 3  single  \n",
       "495                   1       Exschwasion           Egg Carton 2  single  \n",
       "840                   4       Exschwasion           Egg Carton 3  single  \n",
       "959                  11          underjoy  Paczka Ziemniaczka v2  single  \n",
       "811                  11       Exschwasion           Egg Carton 3  single  \n",
       "1140                 13             Tidek   The Abyss of Despair  single  \n",
       "1021                  3            Rikame      Rikame's Simfiles  single  \n",
       "500                   2       Exschwasion           Egg Carton 2  single  \n",
       "963                   9          underjoy  Paczka Ziemniaczka v2  single  "
      ]
     },
     "execution_count": 68,
     "metadata": {},
     "output_type": "execute_result"
    }
   ],
   "source": [
    "Source_Folder = 'Data'\n",
    "df_ChartsData = pd.read_csv(os.path.join(Source_Folder, 'ChartsData.txt'), sep = '|')\n",
    "\n",
    "print(df_ChartsData.info())\n",
    "df_ChartsData.sample(10)"
   ]
  },
  {
   "cell_type": "markdown",
   "id": "ca1eec8a-e679-447e-9e6e-55613ab435be",
   "metadata": {
    "jp-MarkdownHeadingCollapsed": true
   },
   "source": [
    "## Import NotesStats.txt"
   ]
  },
  {
   "cell_type": "code",
   "execution_count": 69,
   "id": "681556f1-8121-4506-9cb4-fc103064a2d0",
   "metadata": {
    "scrolled": true
   },
   "outputs": [
    {
     "name": "stdout",
     "output_type": "stream",
     "text": [
      "<class 'pandas.core.frame.DataFrame'>\n",
      "RangeIndex: 1249 entries, 0 to 1248\n",
      "Data columns (total 5 columns):\n",
      " #   Column               Non-Null Count  Dtype\n",
      "---  ------               --------------  -----\n",
      " 0   Chart_ID             1249 non-null   int64\n",
      " 1   Amount_of_Notes      1249 non-null   int64\n",
      " 2   Amount_of_LongNotes  1249 non-null   int64\n",
      " 3   Amount_of_Rolls      1249 non-null   int64\n",
      " 4   Amount_of_Mines      1249 non-null   int64\n",
      "dtypes: int64(5)\n",
      "memory usage: 48.9 KB\n",
      "None\n"
     ]
    },
    {
     "data": {
      "text/html": [
       "<div>\n",
       "<style scoped>\n",
       "    .dataframe tbody tr th:only-of-type {\n",
       "        vertical-align: middle;\n",
       "    }\n",
       "\n",
       "    .dataframe tbody tr th {\n",
       "        vertical-align: top;\n",
       "    }\n",
       "\n",
       "    .dataframe thead th {\n",
       "        text-align: right;\n",
       "    }\n",
       "</style>\n",
       "<table border=\"1\" class=\"dataframe\">\n",
       "  <thead>\n",
       "    <tr style=\"text-align: right;\">\n",
       "      <th></th>\n",
       "      <th>Chart_ID</th>\n",
       "      <th>Amount_of_Notes</th>\n",
       "      <th>Amount_of_LongNotes</th>\n",
       "      <th>Amount_of_Rolls</th>\n",
       "      <th>Amount_of_Mines</th>\n",
       "    </tr>\n",
       "  </thead>\n",
       "  <tbody>\n",
       "    <tr>\n",
       "      <th>375</th>\n",
       "      <td>376</td>\n",
       "      <td>258</td>\n",
       "      <td>17</td>\n",
       "      <td>0</td>\n",
       "      <td>0</td>\n",
       "    </tr>\n",
       "    <tr>\n",
       "      <th>389</th>\n",
       "      <td>390</td>\n",
       "      <td>716</td>\n",
       "      <td>117</td>\n",
       "      <td>0</td>\n",
       "      <td>44</td>\n",
       "    </tr>\n",
       "    <tr>\n",
       "      <th>503</th>\n",
       "      <td>504</td>\n",
       "      <td>701</td>\n",
       "      <td>91</td>\n",
       "      <td>0</td>\n",
       "      <td>0</td>\n",
       "    </tr>\n",
       "    <tr>\n",
       "      <th>1130</th>\n",
       "      <td>1131</td>\n",
       "      <td>389</td>\n",
       "      <td>62</td>\n",
       "      <td>0</td>\n",
       "      <td>34</td>\n",
       "    </tr>\n",
       "    <tr>\n",
       "      <th>1161</th>\n",
       "      <td>1162</td>\n",
       "      <td>499</td>\n",
       "      <td>50</td>\n",
       "      <td>2</td>\n",
       "      <td>25</td>\n",
       "    </tr>\n",
       "    <tr>\n",
       "      <th>556</th>\n",
       "      <td>557</td>\n",
       "      <td>141</td>\n",
       "      <td>1</td>\n",
       "      <td>0</td>\n",
       "      <td>0</td>\n",
       "    </tr>\n",
       "    <tr>\n",
       "      <th>1089</th>\n",
       "      <td>1090</td>\n",
       "      <td>713</td>\n",
       "      <td>12</td>\n",
       "      <td>10</td>\n",
       "      <td>1</td>\n",
       "    </tr>\n",
       "    <tr>\n",
       "      <th>1204</th>\n",
       "      <td>1205</td>\n",
       "      <td>307</td>\n",
       "      <td>29</td>\n",
       "      <td>2</td>\n",
       "      <td>0</td>\n",
       "    </tr>\n",
       "    <tr>\n",
       "      <th>784</th>\n",
       "      <td>785</td>\n",
       "      <td>98</td>\n",
       "      <td>1</td>\n",
       "      <td>0</td>\n",
       "      <td>0</td>\n",
       "    </tr>\n",
       "    <tr>\n",
       "      <th>1031</th>\n",
       "      <td>1032</td>\n",
       "      <td>367</td>\n",
       "      <td>22</td>\n",
       "      <td>4</td>\n",
       "      <td>1</td>\n",
       "    </tr>\n",
       "  </tbody>\n",
       "</table>\n",
       "</div>"
      ],
      "text/plain": [
       "      Chart_ID  Amount_of_Notes  Amount_of_LongNotes  Amount_of_Rolls  \\\n",
       "375        376              258                   17                0   \n",
       "389        390              716                  117                0   \n",
       "503        504              701                   91                0   \n",
       "1130      1131              389                   62                0   \n",
       "1161      1162              499                   50                2   \n",
       "556        557              141                    1                0   \n",
       "1089      1090              713                   12               10   \n",
       "1204      1205              307                   29                2   \n",
       "784        785               98                    1                0   \n",
       "1031      1032              367                   22                4   \n",
       "\n",
       "      Amount_of_Mines  \n",
       "375                 0  \n",
       "389                44  \n",
       "503                 0  \n",
       "1130               34  \n",
       "1161               25  \n",
       "556                 0  \n",
       "1089                1  \n",
       "1204                0  \n",
       "784                 0  \n",
       "1031                1  "
      ]
     },
     "execution_count": 69,
     "metadata": {},
     "output_type": "execute_result"
    }
   ],
   "source": [
    "df_NotesStats = pd.read_csv(os.path.join(Source_Folder, 'NotesStats.txt'), sep = '|')\n",
    "\n",
    "print(df_NotesStats.info())\n",
    "df_NotesStats.sample(10)"
   ]
  },
  {
   "cell_type": "markdown",
   "id": "27168d23-c6aa-4140-95c4-3f390aa1f7a4",
   "metadata": {
    "jp-MarkdownHeadingCollapsed": true
   },
   "source": [
    "# Data Preparing"
   ]
  },
  {
   "cell_type": "markdown",
   "id": "95d73c2d-4184-47e3-94f2-6c9c1cbd82cb",
   "metadata": {
    "jp-MarkdownHeadingCollapsed": true
   },
   "source": [
    "## joining both tables for easier further analysis"
   ]
  },
  {
   "cell_type": "code",
   "execution_count": 70,
   "id": "38744fa9-d614-476c-9f4b-a2de1eacc067",
   "metadata": {},
   "outputs": [
    {
     "name": "stdout",
     "output_type": "stream",
     "text": [
      "<class 'pandas.core.frame.DataFrame'>\n",
      "RangeIndex: 1249 entries, 0 to 1248\n",
      "Data columns (total 16 columns):\n",
      " #   Column               Non-Null Count  Dtype \n",
      "---  ------               --------------  ----- \n",
      " 0   Chart_ID             1249 non-null   int64 \n",
      " 1   Song_Title           1249 non-null   object\n",
      " 2   Song_Subtitle        1249 non-null   object\n",
      " 3   Song_Artist          1249 non-null   object\n",
      " 4   Song_Length          1249 non-null   int64 \n",
      " 5   Song_BPM             1249 non-null   object\n",
      " 6   Technical_Notation   1249 non-null   object\n",
      " 7   Difficulty_Name      1249 non-null   object\n",
      " 8   Difficulty_Rating    1249 non-null   int64 \n",
      " 9   Step_Artist          1249 non-null   object\n",
      " 10  Pack                 1249 non-null   object\n",
      " 11  Type                 1249 non-null   object\n",
      " 12  Amount_of_Notes      1249 non-null   int64 \n",
      " 13  Amount_of_LongNotes  1249 non-null   int64 \n",
      " 14  Amount_of_Rolls      1249 non-null   int64 \n",
      " 15  Amount_of_Mines      1249 non-null   int64 \n",
      "dtypes: int64(7), object(9)\n",
      "memory usage: 156.3+ KB\n"
     ]
    },
    {
     "data": {
      "text/html": [
       "<div>\n",
       "<style scoped>\n",
       "    .dataframe tbody tr th:only-of-type {\n",
       "        vertical-align: middle;\n",
       "    }\n",
       "\n",
       "    .dataframe tbody tr th {\n",
       "        vertical-align: top;\n",
       "    }\n",
       "\n",
       "    .dataframe thead th {\n",
       "        text-align: right;\n",
       "    }\n",
       "</style>\n",
       "<table border=\"1\" class=\"dataframe\">\n",
       "  <thead>\n",
       "    <tr style=\"text-align: right;\">\n",
       "      <th></th>\n",
       "      <th>Chart_ID</th>\n",
       "      <th>Song_Title</th>\n",
       "      <th>Song_Subtitle</th>\n",
       "      <th>Song_Artist</th>\n",
       "      <th>Song_Length</th>\n",
       "      <th>Song_BPM</th>\n",
       "      <th>Technical_Notation</th>\n",
       "      <th>Difficulty_Name</th>\n",
       "      <th>Difficulty_Rating</th>\n",
       "      <th>Step_Artist</th>\n",
       "      <th>Pack</th>\n",
       "      <th>Type</th>\n",
       "      <th>Amount_of_Notes</th>\n",
       "      <th>Amount_of_LongNotes</th>\n",
       "      <th>Amount_of_Rolls</th>\n",
       "      <th>Amount_of_Mines</th>\n",
       "    </tr>\n",
       "  </thead>\n",
       "  <tbody>\n",
       "    <tr>\n",
       "      <th>659</th>\n",
       "      <td>660</td>\n",
       "      <td>BAD NUMBER!</td>\n",
       "      <td></td>\n",
       "      <td>Tanger &amp; disphing</td>\n",
       "      <td>138</td>\n",
       "      <td>180,00</td>\n",
       "      <td>FS</td>\n",
       "      <td>Hard</td>\n",
       "      <td>9</td>\n",
       "      <td>Exschwasion</td>\n",
       "      <td>Egg Carton 3</td>\n",
       "      <td>single</td>\n",
       "      <td>505</td>\n",
       "      <td>65</td>\n",
       "      <td>0</td>\n",
       "      <td>27</td>\n",
       "    </tr>\n",
       "    <tr>\n",
       "      <th>1</th>\n",
       "      <td>2</td>\n",
       "      <td>BACK UP</td>\n",
       "      <td></td>\n",
       "      <td>ctrl+r with HEDDIE</td>\n",
       "      <td>125</td>\n",
       "      <td>133,00</td>\n",
       "      <td></td>\n",
       "      <td>Easy</td>\n",
       "      <td>3</td>\n",
       "      <td>ranatalus</td>\n",
       "      <td>Club Fantastic Season 1</td>\n",
       "      <td>single</td>\n",
       "      <td>160</td>\n",
       "      <td>14</td>\n",
       "      <td>0</td>\n",
       "      <td>0</td>\n",
       "    </tr>\n",
       "    <tr>\n",
       "      <th>106</th>\n",
       "      <td>107</td>\n",
       "      <td>Beachside Photoshoot</td>\n",
       "      <td></td>\n",
       "      <td>Snooze</td>\n",
       "      <td>133</td>\n",
       "      <td>140,00</td>\n",
       "      <td></td>\n",
       "      <td>Easy</td>\n",
       "      <td>5</td>\n",
       "      <td>ranatalus</td>\n",
       "      <td>Club Fantastic Season 2</td>\n",
       "      <td>single</td>\n",
       "      <td>247</td>\n",
       "      <td>26</td>\n",
       "      <td>2</td>\n",
       "      <td>0</td>\n",
       "    </tr>\n",
       "    <tr>\n",
       "      <th>758</th>\n",
       "      <td>759</td>\n",
       "      <td>BeFor the Dawn</td>\n",
       "      <td></td>\n",
       "      <td>Koke</td>\n",
       "      <td>147</td>\n",
       "      <td>240,00 - 300,00</td>\n",
       "      <td></td>\n",
       "      <td>Easy</td>\n",
       "      <td>7</td>\n",
       "      <td>Exschwasion</td>\n",
       "      <td>Egg Carton 3</td>\n",
       "      <td>single</td>\n",
       "      <td>374</td>\n",
       "      <td>70</td>\n",
       "      <td>0</td>\n",
       "      <td>0</td>\n",
       "    </tr>\n",
       "    <tr>\n",
       "      <th>607</th>\n",
       "      <td>608</td>\n",
       "      <td>Rave Ball</td>\n",
       "      <td></td>\n",
       "      <td>Qteku &amp; GOLEMM</td>\n",
       "      <td>144</td>\n",
       "      <td>130,00</td>\n",
       "      <td>FS</td>\n",
       "      <td>Medium</td>\n",
       "      <td>8</td>\n",
       "      <td>Exschwasion</td>\n",
       "      <td>Egg Carton 2</td>\n",
       "      <td>single</td>\n",
       "      <td>485</td>\n",
       "      <td>12</td>\n",
       "      <td>0</td>\n",
       "      <td>30</td>\n",
       "    </tr>\n",
       "    <tr>\n",
       "      <th>1226</th>\n",
       "      <td>1227</td>\n",
       "      <td>Made In Innocent</td>\n",
       "      <td></td>\n",
       "      <td>Onoken</td>\n",
       "      <td>112</td>\n",
       "      <td>120,00</td>\n",
       "      <td></td>\n",
       "      <td>Medium</td>\n",
       "      <td>5</td>\n",
       "      <td>J.Berkowitz</td>\n",
       "      <td>Valex's Magical 4-Arrow Adventure</td>\n",
       "      <td>single</td>\n",
       "      <td>202</td>\n",
       "      <td>35</td>\n",
       "      <td>1</td>\n",
       "      <td>1</td>\n",
       "    </tr>\n",
       "    <tr>\n",
       "      <th>125</th>\n",
       "      <td>126</td>\n",
       "      <td>demonstration protocol</td>\n",
       "      <td></td>\n",
       "      <td>MachineAge</td>\n",
       "      <td>125</td>\n",
       "      <td>130,00</td>\n",
       "      <td></td>\n",
       "      <td>Beginner</td>\n",
       "      <td>1</td>\n",
       "      <td>ranatalus</td>\n",
       "      <td>Club Fantastic Season 2</td>\n",
       "      <td>single</td>\n",
       "      <td>80</td>\n",
       "      <td>9</td>\n",
       "      <td>0</td>\n",
       "      <td>0</td>\n",
       "    </tr>\n",
       "    <tr>\n",
       "      <th>879</th>\n",
       "      <td>880</td>\n",
       "      <td>[Mix] VICIOUS CYQLE</td>\n",
       "      <td></td>\n",
       "      <td>siqlo</td>\n",
       "      <td>443</td>\n",
       "      <td>150,00</td>\n",
       "      <td>40* / 72* / 44* / 19* / 34*</td>\n",
       "      <td>Hard</td>\n",
       "      <td>14</td>\n",
       "      <td>Exschwasion</td>\n",
       "      <td>Egg Carton 3</td>\n",
       "      <td>single</td>\n",
       "      <td>3616</td>\n",
       "      <td>76</td>\n",
       "      <td>0</td>\n",
       "      <td>2</td>\n",
       "    </tr>\n",
       "    <tr>\n",
       "      <th>194</th>\n",
       "      <td>195</td>\n",
       "      <td>We Can Bounce!!</td>\n",
       "      <td></td>\n",
       "      <td>team BOUNCE</td>\n",
       "      <td>123</td>\n",
       "      <td>195,00</td>\n",
       "      <td></td>\n",
       "      <td>Challenge</td>\n",
       "      <td>13</td>\n",
       "      <td>H. Felker</td>\n",
       "      <td>Club Fantastic Season 2</td>\n",
       "      <td>single</td>\n",
       "      <td>1555</td>\n",
       "      <td>87</td>\n",
       "      <td>8</td>\n",
       "      <td>19</td>\n",
       "    </tr>\n",
       "    <tr>\n",
       "      <th>422</th>\n",
       "      <td>423</td>\n",
       "      <td>Flying City</td>\n",
       "      <td></td>\n",
       "      <td>lapix</td>\n",
       "      <td>139</td>\n",
       "      <td>130,00</td>\n",
       "      <td>FS</td>\n",
       "      <td>Hard</td>\n",
       "      <td>10</td>\n",
       "      <td>Exschwasion</td>\n",
       "      <td>Egg Carton</td>\n",
       "      <td>single</td>\n",
       "      <td>575</td>\n",
       "      <td>36</td>\n",
       "      <td>0</td>\n",
       "      <td>0</td>\n",
       "    </tr>\n",
       "  </tbody>\n",
       "</table>\n",
       "</div>"
      ],
      "text/plain": [
       "      Chart_ID              Song_Title Song_Subtitle         Song_Artist  \\\n",
       "659        660             BAD NUMBER!                 Tanger & disphing   \n",
       "1            2                 BACK UP                ctrl+r with HEDDIE   \n",
       "106        107    Beachside Photoshoot                            Snooze   \n",
       "758        759          BeFor the Dawn                              Koke   \n",
       "607        608               Rave Ball                    Qteku & GOLEMM   \n",
       "1226      1227        Made In Innocent                            Onoken   \n",
       "125        126  demonstration protocol                        MachineAge   \n",
       "879        880     [Mix] VICIOUS CYQLE                             siqlo   \n",
       "194        195         We Can Bounce!!                       team BOUNCE   \n",
       "422        423             Flying City                             lapix   \n",
       "\n",
       "      Song_Length         Song_BPM           Technical_Notation  \\\n",
       "659           138           180,00                           FS   \n",
       "1             125           133,00                                \n",
       "106           133           140,00                                \n",
       "758           147  240,00 - 300,00                                \n",
       "607           144           130,00                           FS   \n",
       "1226          112           120,00                                \n",
       "125           125           130,00                                \n",
       "879           443           150,00  40* / 72* / 44* / 19* / 34*   \n",
       "194           123           195,00                                \n",
       "422           139           130,00                           FS   \n",
       "\n",
       "     Difficulty_Name  Difficulty_Rating  Step_Artist  \\\n",
       "659             Hard                  9  Exschwasion   \n",
       "1               Easy                  3    ranatalus   \n",
       "106             Easy                  5    ranatalus   \n",
       "758             Easy                  7  Exschwasion   \n",
       "607           Medium                  8  Exschwasion   \n",
       "1226          Medium                  5  J.Berkowitz   \n",
       "125         Beginner                  1    ranatalus   \n",
       "879             Hard                 14  Exschwasion   \n",
       "194        Challenge                 13    H. Felker   \n",
       "422             Hard                 10  Exschwasion   \n",
       "\n",
       "                                   Pack    Type  Amount_of_Notes  \\\n",
       "659                        Egg Carton 3  single              505   \n",
       "1               Club Fantastic Season 1  single              160   \n",
       "106             Club Fantastic Season 2  single              247   \n",
       "758                        Egg Carton 3  single              374   \n",
       "607                        Egg Carton 2  single              485   \n",
       "1226  Valex's Magical 4-Arrow Adventure  single              202   \n",
       "125             Club Fantastic Season 2  single               80   \n",
       "879                        Egg Carton 3  single             3616   \n",
       "194             Club Fantastic Season 2  single             1555   \n",
       "422                          Egg Carton  single              575   \n",
       "\n",
       "      Amount_of_LongNotes  Amount_of_Rolls  Amount_of_Mines  \n",
       "659                    65                0               27  \n",
       "1                      14                0                0  \n",
       "106                    26                2                0  \n",
       "758                    70                0                0  \n",
       "607                    12                0               30  \n",
       "1226                   35                1                1  \n",
       "125                     9                0                0  \n",
       "879                    76                0                2  \n",
       "194                    87                8               19  \n",
       "422                    36                0                0  "
      ]
     },
     "execution_count": 70,
     "metadata": {},
     "output_type": "execute_result"
    }
   ],
   "source": [
    "df = pd.merge(df_ChartsData, df_NotesStats, on = 'Chart_ID', how = 'inner')\n",
    "df.info()\n",
    "df.sample(10)"
   ]
  },
  {
   "cell_type": "markdown",
   "id": "5aae4b18-5a20-432a-aa01-eb347b81a441",
   "metadata": {
    "jp-MarkdownHeadingCollapsed": true
   },
   "source": [
    "## Data cleaning and formatting"
   ]
  },
  {
   "cell_type": "markdown",
   "id": "61fb8df6-42a2-4037-a4eb-767c5e800b20",
   "metadata": {},
   "source": [
    "### Checking unique value list in every column"
   ]
  },
  {
   "cell_type": "code",
   "execution_count": 90,
   "id": "817fc22d-fc46-4748-8155-c50f6cfd42a9",
   "metadata": {
    "scrolled": true
   },
   "outputs": [
    {
     "name": "stdout",
     "output_type": "stream",
     "text": [
      "Chart_ID\n",
      "[1, 2, 3, 4, 5, 7, 8, 9, 10, 11, 13, 14, 15, 16, 17, 19, 20, 21, 22, 23, 25, 26, 27, 28, 29, 31, 32, 33, 34, 35, 37, 38, 39, 40, 41, 43, 44, 45, 46, 47, 49, 50, 51, 52, 53, 55, 56, 57, 58, 59, 61, 62, 63, 64, 65, 67, 68, 69, 70, 71, 73, 74, 75, 76, 77, 79, 80, 81, 82, 83, 85, 86, 87, 88, 89, 91, 92, 93, 94, 95, 100, 101, 102, 107, 108, 109, 110, 111, 112, 113, 118, 119, 124, 125, 126, 127, 128, 129, 130, 131, 133, 134, 135, 136, 137, 139, 140, 141, 142, 143, 148, 149, 150, 151, 152, 157, 158, 159, 160, 161, 163, 164, 165, 166, 167, 169, 171, 172, 173, 174, 175, 176, 177, 178, 179, 180, 181, 182, 183, 184, 190, 191, 192, 193, 194, 195, 196, 197, 198, 203, 204, 205, 206, 207, 208, 213, 214, 215, 216, 217, 222, 223, 224, 225, 226, 227, 228, 229, 230, 231, 232, 233, 234, 235, 236, 237, 238, 239, 240, 241, 242, 243, 244, 245, 246, 247, 248, 249, 250, 251, 252, 253, 254, 255, 256, 257, 258, 259, 260, 261, 262, 263, 264, 265, 266, 267, 268, 269, 270, 271, 272, 273, 274, 275, 276, 277, 278, 279, 280, 281, 282, 283, 284, 285, 286, 287, 288, 289, 290, 291, 292, 293, 294, 295, 296, 297, 298, 299, 300, 301, 302, 303, 304, 305, 306, 307, 308, 309, 310, 311, 312, 313, 314, 315, 316, 317, 318, 319, 320, 321, 322, 323, 324, 325, 326, 327, 328, 329, 330, 331, 332, 333, 334, 335, 336, 337, 338, 339, 340, 341, 342, 343, 344, 345, 346, 347, 348, 349, 350, 351, 352, 353, 354, 355, 356, 357, 358, 359, 360, 361, 362, 363, 364, 365, 366, 367, 368, 369, 370, 371, 372, 373, 374, 375, 376, 377, 378, 379, 380, 381, 382, 383, 384, 385, 386, 387, 388, 389, 390, 391, 392, 393, 394, 395, 396, 397, 398, 399, 400, 401, 402, 403, 404, 405, 406, 407, 408, 409, 410, 411, 412, 413, 414, 415, 416, 417, 418, 419, 420, 421, 422, 423, 424, 425, 426, 427, 428, 429, 430, 431, 432, 433, 434, 435, 436, 437, 438, 439, 440, 441, 442, 443, 444, 445, 446, 447, 448, 449, 450, 451, 452, 453, 454, 455, 456, 457, 458, 459, 460, 461, 462, 463, 464, 465, 466, 467, 468, 469, 470, 471, 472, 473, 474, 475, 476, 477, 478, 479, 480, 481, 482, 483, 484, 485, 486, 487, 488, 489, 490, 491, 492, 493, 494, 495, 496, 497, 498, 499, 500, 501, 502, 503, 504, 505, 506, 507, 508, 509, 510, 511, 512, 513, 514, 515, 516, 517, 518, 519, 520, 521, 522, 523, 524, 525, 526, 527, 528, 529, 530, 531, 532, 533, 534, 535, 536, 537, 538, 539, 540, 541, 542, 543, 544, 545, 546, 547, 548, 549, 550, 551, 552, 553, 554, 555, 556, 557, 558, 559, 560, 561, 562, 563, 564, 565, 566, 567, 568, 569, 570, 571, 572, 573, 574, 575, 576, 577, 578, 579, 580, 581, 582, 583, 584, 585, 586, 587, 588, 589, 590, 591, 592, 593, 594, 595, 596, 597, 598, 599, 600, 601, 602, 603, 604, 605, 606, 607, 608, 609, 610, 611, 612, 613, 614, 615, 616, 617, 618, 619, 620, 621, 622, 623, 624, 625, 626, 627, 628, 629, 630, 631, 632, 633, 634, 635, 636, 637, 638, 639, 640, 641, 642, 643, 644, 645, 646, 647, 648, 649, 650, 651, 652, 653, 654, 655, 656, 657, 658, 659, 660, 661, 662, 663, 664, 665, 666, 667, 668, 669, 670, 671, 672, 673, 674, 675, 676, 677, 678, 679, 680, 681, 682, 683, 684, 685, 686, 687, 688, 689, 690, 691, 692, 693, 694, 695, 696, 697, 698, 699, 700, 701, 702, 703, 704, 705, 706, 707, 708, 709, 710, 711, 712, 713, 714, 715, 716, 717, 718, 719, 720, 721, 722, 723, 724, 725, 726, 727, 728, 729, 730, 731, 732, 733, 734, 735, 736, 737, 738, 739, 740, 741, 742, 743, 744, 745, 746, 747, 748, 749, 750, 751, 752, 753, 754, 755, 756, 757, 758, 759, 760, 761, 762, 763, 764, 765, 766, 767, 768, 769, 770, 771, 772, 773, 774, 775, 776, 777, 778, 779, 780, 781, 782, 783, 784, 785, 786, 787, 788, 789, 790, 791, 792, 793, 794, 795, 796, 798, 799, 800, 801, 802, 803, 804, 805, 806, 807, 808, 809, 810, 811, 812, 813, 814, 815, 816, 817, 818, 819, 820, 821, 822, 823, 824, 825, 826, 827, 828, 829, 830, 831, 832, 833, 834, 835, 836, 837, 838, 839, 840, 841, 842, 843, 844, 845, 846, 847, 848, 849, 850, 851, 852, 853, 854, 855, 856, 857, 858, 859, 860, 861, 862, 863, 864, 865, 866, 867, 868, 869, 870, 871, 872, 873, 874, 875, 876, 877, 878, 879, 880, 881, 882, 883, 884, 885, 886, 887, 888, 889, 890, 891, 892, 893, 894, 895, 896, 897, 898, 899, 900, 901, 902, 903, 904, 905, 906, 907, 908, 909, 910, 911, 912, 913, 914, 915, 916, 917, 918, 919, 920, 921, 922, 923, 924, 925, 926, 927, 928, 929, 930, 931, 932, 933, 934, 935, 936, 937, 938, 939, 940, 941, 942, 943, 944, 945, 946, 947, 948, 949, 950, 951, 952, 953, 954, 955, 956, 957, 958, 959, 960, 961, 962, 963, 964, 965, 966, 967, 968, 969, 970, 971, 972, 973, 974, 975, 976, 977, 978, 979, 980, 981, 982, 983, 984, 985, 986, 987, 988, 989, 990, 991, 992, 993, 994, 995, 996, 997, 998, 999, 1000, 1001, 1002, 1003, 1004, 1005, 1006, 1007, 1008, 1009, 1010, 1011, 1012, 1013, 1014, 1015, 1016, 1017, 1018, 1019, 1020, 1021, 1022, 1023, 1024, 1025, 1026, 1027, 1028, 1029, 1030, 1031, 1032, 1033, 1034, 1035, 1036, 1037, 1038, 1039, 1040, 1041, 1042, 1043, 1044, 1045, 1046, 1047, 1048, 1049, 1050, 1051, 1052, 1053, 1054, 1055, 1056, 1057, 1058, 1059, 1060, 1061, 1062, 1063, 1064, 1065, 1066, 1067, 1068, 1069, 1070, 1071, 1072, 1073, 1074, 1075, 1076, 1077, 1078, 1079, 1080, 1081, 1082, 1083, 1084, 1085, 1086, 1087, 1088, 1089, 1090, 1091, 1092, 1093, 1094, 1095, 1096, 1097, 1098, 1099, 1100, 1101, 1102, 1103, 1104, 1105, 1106, 1107, 1108, 1109, 1110, 1111, 1112, 1113, 1114, 1115, 1116, 1117, 1118, 1119, 1120, 1121, 1122, 1123, 1124, 1125, 1126, 1127, 1128, 1129, 1130, 1131, 1132, 1133, 1134, 1135, 1136, 1137, 1138, 1139, 1140, 1141, 1142, 1143, 1144, 1145, 1146, 1147, 1148, 1149, 1150, 1151, 1152, 1153, 1154, 1155, 1156, 1157, 1158, 1159, 1160, 1161, 1162, 1163, 1164, 1165, 1166, 1167, 1168, 1169, 1170, 1171, 1172, 1173, 1174, 1175, 1176, 1177, 1178, 1179, 1180, 1181, 1182, 1183, 1184, 1185, 1186, 1187, 1188, 1189, 1190, 1191, 1192, 1193, 1194, 1195, 1196, 1197, 1198, 1199, 1200, 1201, 1202, 1203, 1204, 1205, 1206, 1207, 1208, 1209, 1210, 1211, 1212, 1213, 1214, 1220, 1221, 1222, 1223, 1224, 1225, 1226, 1227, 1228, 1229, 1230, 1231, 1232, 1233, 1234, 1235, 1236, 1237, 1238, 1239, 1240, 1241, 1242, 1243, 1244, 1245, 1246, 1247, 1248, 1249]\n",
      "---------------------\n",
      "Song_Title\n",
      "['BACK UP', 'BOSSY', \"Can't You Bounce!?\", 'COOL_EXCEPTION', 'Dysangel', 'Fantastic World', 'Horsepower', 'Melody Mountain', 'Oceania 909', 'Roadman', 'Shoes', 'Six Million', 'Wandering (VIP)', 'Y.E.A.H.', 'Adore', 'Artifacts', 'Beachside Photoshoot', 'demonstration protocol', 'DNA', 'POT', 'Save New Jersey', 'Singularity', 'SSS', 'Step It', 'Succulynt', 'SWEETHEART', 'TerpZone', 'We Can Bounce!!', 'Wipeout', 'WRVTH', 'Addicted', 'Assault TAXI', 'B WiZ U', 'Bak Snap', 'Blanoir', \"Cat's Rule\", 'CUE CUE RESCUE', 'Darling Dance', 'Denki Yohou', 'Force Buy', 'Get The 1,000,000', 'Glooorious!! (MYUKKE. REMIX)', 'HYPER SAMPLER', \"If It's Silent\", 'Just Accept', 'Levitate', 'Lights', 'LYD', 'MAXRAGE', 'Naporitan Struggle', 'Natur[Z]eit', 'New World', 'PUMP!', 'Random Encounter', 'reiji no machi', 'Rush Away', 'Say Yes Or Say No', 'Selfish Dazzling', 'STICKY HELIX', 'Superspeed', 'The Bewilder BlueMartini', 'Uchuu Yuuei', 'UFO-mie', 'Yume-CAST', 'Yuyake no Red Parade', 'Palette Lab', 'Hugs and Hexagons', 'LALA', 'Flying City', 'Slaughta', '(Not) A Devil', '10pt8ion', '300 million yen', '3o3o3o3', 'Bitter Juicy', '†††Chaos Time the DARK†††', 'CHOVERY GOOSE!!!', 'Churros Parlor', 'Collision Data', 'Dada', 'Day After Day', 'deadeye', 'Donkey Stomp', 'Fidget Dancer', 'Good Time', 'HAGAKIRI', 'Hide and Seek', 'HiTECH Stay Alive', 'Hyper Active', 'Kissing Game', 'Marshall Maximizer', 'MΔX FLAVØR', 'MAXIMAL TECHNO', 'Miira Killer', 'Ms.Rave & Mr.Bounce', 'MVURBD', 'NITE 2 FLOW', 'NO, I DONT KNOW', 'O・La', 'p.h.', 'Phantasm', 'PUSH UR T3MPRR', 'Rave Ball', 'Spin Cycle', 'Stylus', \"toa's toybox\", 'UROBOROX', 'Voltage', 'With u', 'YukiOtoko', 'B.B.M.', 'BAD NUMBER!', 'Body Breathing', 'break it down!', 'byun G', \"Can't Get You Out of My Mind\", 'Dark Room', 'Decadence Prosper', 'G.U.Y.', 'GIGA OMEGA VIP', 'Grindhouse', 'Hard to Pretend', 'Hyperion', 'ISOGA♥PEACH', 'LiftOff', 'LOLLYGAGGING', 'Lovely Lovely Lover', 'My Mutant Ride', 'POWER OF COURAGE', 'BeFor the Dawn', 'Satellite Transmission', 'Scorpion Girl no Kichou na Hoshoku Scene', 'Showdown Tendency', 'Shukusei Shinpan', 'Soul', 'Space Creation Theory', 'Spica no Tenbin', 'spoopy', 'Tell Me', 'This Is Club Musik', 'TRAFIK!', 'Voice 2 Voice n Voice', 'WDM2000', 'We Gonna Journey', 'Whipdash', 'Whisper City', 'Wobbpotato', 'Wonder Panda Traveler', 'Workaholic', 'You Know', '[Mix] Low-Frequency Weapons', '[Mix] VICIOUS CYQLE', 'Lovers', 'Przez Twe Oczy Zielone', 'Dango Daikazoku', 'I Can Fly In The Universe', 'Bassdrop Freaks', 'Torero', 'Faced', 'Japanese Transformation', 'Andrzej Duda Nam Sie Udal', 'Gigadelic', 'Dadadadadadadadadada', 'gigadelic', 'Usatei 2011', 'Cyber Thunder Cider', 'Kitsune no Yomeiri', 'Poison AND/OR Affection', 'NO NIGHT MORE SOUL!', 'Flicker', 'Energy Flower 3007', 'No title', 'Unshakable', 'Hurting For A Very Hurtful Pain', 'Kounaru Senritsu', 'Master of Genocide', 'AiAe', 'Bad Apple', \"Ziemniak's BOSS Sad Piano\", 'Angel of Death', 'Black Lawn Finale', 'Black Sheep', 'Bye Bye Bye', \"Cirno's Perfect Math Class\", 'Dancing Samurai', 'Denjin Akatsuniki Taoreru', 'Evergreen', 'Everything or Nothing', 'Futurescope.NEXT', 'Going On', 'I Like Trains', 'Lawn  Wake  I', 'Legendary Tales', 'Madness Apotheosis Theme', 'Maid of Orleans', 'Queen of the Dark Horizons', 'Reign of Terror', 'Slicing the Wind', 'Steel Needle', 'The Deep Striker', 'The Fourth Sequence', 'The Last Striker', 'Valkyrie Dimension', 'Xephon', 'Collision', 'Diabolic Enemy', 'End of Celestia', 'Evoke', 'Executioner', 'Latent Kingdom', 'Scarlet Garland', 'The Abyss of Despair', 'Viper', \"Viyella's Malice\", '2nd Sucks', \"Ain't That Funny\", 'Better Than Revenge', 'Break the Beat in Half, Dr. Wily', 'BREATH', 'Comic Bakery', 'Dirty Talk', 'Enemy Storm', 'Feel Good Drag', 'Fury', 'Gaia Bleeds', 'Insect Digestion Melancholy', 'Made In Innocent', 'Middle of the Night', 'Our Xenopittan', 'Rawest Forest', 'Tsukiyuki ni mau hana no you ni']\n",
      "---------------------\n",
      "Song_Subtitle\n",
      "[nan, '(Club Fantastic Edit)', '(Jorts Speedy Mix)', '(T2KAZUYA Remix)', '(The Feline Overlord Ver.)', '(BilliumMoto Remix)', '(Extended)', '(Album Mix)', '(Milkfish Remix)', '(I Want You)', '(GT800)', '(（ワンダーパンダートラベラー）)', '(Dango Ma Nigga)', \"(Camellia's THE TERA RMX)\", '(-the solitary melody-)', '(AC Ver.)', '(feat. Aitsuki Nakuru)', '(Extra Pie Mix)', '(Dark Jungle Mix)', '(Make Way for Man)']\n",
      "---------------------\n",
      "Song_Artist\n",
      "['ctrl+r with HEDDIE', 'BABYPOWDER', 'team BOUNCE', 'Frums', 'T2KAZUYA', 'Quad Star System', 'Verve', 'Ohayo Rivers', 'xaimus', 'MegaSphere', 'Tee Lopes', 'A_Rival', 'ÆSC', 'Rhythmics', 'Adrian Alexander', 'Snooze', 'MachineAge', 'Voia feat. Slyleaf', 'Tee Lopes & Dylan James', 'Save New Jersey', 'Jorts', 'Maxo', 'Shirobon', 'coda', 'Synthion', 'Lindsay Lowend', 'Redsign', '∀S∀', 'Getty', 'Foxsky', 'Aoi', 'chilldive', 'TORIENA', 'Kairiki Bear feat. Hatsune Miku', 'Inabakumori feat. Hatsune Miku', 'Drumatic Sequencer', 'Yooh', '翡乃イスカ vs. s-don', 'EmoCosine', 'ARForest', 'pengaton', 'PODA', 'Aiyru', 'Ruxxi & reeload', 'EBIMAYO', 'かたぎり', 'Street', 'Pure 100%', 'Pasocom Music Club feat. chelmico', 'KARUT', 'Pasocom Music Club feat. Warabi Inoue', 't+pazolite', 'Feed Me', 'Hoshimachi Suisei', 'six impala', 'Lido & Canblaster', 'seatrus', 'lapix feat. Nakamura Sanso', 'Pasocom Music Club feat. The Hair Kid', 'poplavor', 'technoplanet', 'Kanzakishion', 'Isqa', 'Chroma', 'lapix', 'JAKAZiD', 'DECO*27 x PinocchioP', 'Lite Show Magic', 'chelmico', 'Nhato', 'mommy', 'MYUKKE.', 'ピエロ☆マン', 'Iglooghost ft. Marina Herlop', 'NOMELON NOLEMON', 'Pasocom Music Club feat. Mei Takahashi', 'Acotto', 'GOLEMM x BUGCORE', 'nora2r', 'Masayoshi Iimori', 'siqlo', 'HiTECH NINJA', 'GOLEMM', 'Hiiragi Magnetite', 'EmoCosine overlay', 'TEMPURA KIDZ vs Charisma.com', 'C-Show & DJ Noriken', 'ETIA.', 'icesawder x moyu', 'nemy', 'SEVENTHLINKS feat. flower', 'Red Spear', 'Femtanyl', 'Qteku & GOLEMM', 'Skybreak, BilliumMoto & Miyolophone', 'HuΣeR', 'linear ring', 'BlackYooh vs. siromaru', 'Juggernaut.', 'moyu', 'Kaneko Chiharu', 'PAS TASTA feat. ピノキオピー', 'Tanger & disphing', 'Sixtroke', 'Ruxxi', 'PAS TASTA ft. JUMADIBA & LIL SOFT TENNIS', 'Dreamcatcher', 'Crankdat', 'Milkfish', 'Blacklolita', 'Machine Girl', 'Tennyson & Leslie', 'Maozon', 'MAYA AKAI', 'PAS TASTA ft. Satoko Shibata & TAKU INOUE', 'Zekk', 'Koke', 'STEAKA', 'suzu', 'A.Fruit & Itoa', 'Sound piercer', 'Daoko & Yohji Igarashi', 'Tatsunoshin', 'REMO-CON feat. Ookubo Momiji', 'Käärijä & Joost', 'ZoeEngine', 'Queen P.A.L.', 'Philce', 'FANTAGIRAFF', 'midy feat. Kosuzu', 'REXY=DEXY', '7!!', 'Akcent', 'Chata ft. Busta Rhymes', 'Camellia', 'Camellia feat. Nanahira', 'Chayanne', 'DJ Genki', 'DJKurara', 'Emilia Golaszewska', 'ikaruga_nex', 'Hige Driver join. SELEN', 'IOSYS', 'Jyaanii', 'Masa', 'LeaF', 'nekomirin', 'Porter Robinson', 'r300k', 'REOL', 'RiraN', 'VY1VY2', 'xenothium remixed by gmtn.', 'yukitani feat. DJ YKTN and DJ UMA', 'Yuyoyuppe', 'super sad', 'Axxis', 'The Flashbulb', 'Thomas Howard Lichtenstein', \"'N Sync\", 'Gakupo', 'Sota Fujimori', 'kors k', 'Mya', 'Kernel400', 'S.S.H', 'Todd Bryanton', 'Rhapsody of Fire', 'Sean Hodges', 'Dark Moor', 'Yoh Ohyama', 'L.E.D G', 'Sabrepulse', 'Spriggan', 'DJ Sharpnel', 'Laur', 'Laur vs Oguni Kanon', 'A Day to Remember', 'Sick YG', 'Taylor Swift', 'Shael Riley', 'SPARKER', 'Press Play On Tape', 'Wynter Gordon', 'Croove', 'Paul Bazooka', 'Anberlin', 'Sugar Donut', 'Set Your Goals', 'Hrvatski', 'Onoken', 'Evol Intent', 'Xenosaga Freaks', 'Marta', 'Nekomata Master']\n",
      "---------------------\n",
      "Song_Length_(seconds)\n",
      "[125, 119, 131, 133, 99, 106, 124, 130, 261, 128, 111, 135, 152, 356, 126, 123, 134, 129, 149, 110, 127, 151, 150, 136, 116, 146, 109, 102, 142, 121, 137, 143, 141, 140, 117, 139, 132, 155, 144, 122, 113, 148, 138, 115, 112, 147, 103, 452, 443, 89, 114, 168, 120, 231, 184, 154, 91, 96, 238, 194, 56, 162, 166, 97, 118, 182, 188, 200, 240, 300, 209, 247, 180, 255, 105, 104, 90]\n",
      "---------------------\n",
      "Technical_Notation\n",
      "[nan, 'XO FS SJ 24ths 32nds', 'Rems (no stream)', 'Rems 2222/8', 'Rems 8/16/16', 'Rems 17/32/332', 'FS BR 20ths', 'FS', 'FS RH', 'FS BR DS Rolls MD RH', 'XO', 'FS XO', 'FS XO SS BR', 'FS SS BR DS', 'BR', 'BR FS', 'BR XO', 'FS BR XO', 'BU RH BR JA', 'Rolls FS BR DS', 'XO DS JA', 'JA', 'JA BU DS SJ', 'CT', 'CT FS DS', 'BR XO FS', 'BR FS XO BU', 'FS DS', 'BR FS XO BU BT', 'FS BR', 'FS SS BR', 'FS SS XO DS', 'FS MD', 'BR FS MD', 'BR SS FS Lifts', 'FS Rolls', 'FS DS XO', 'NoTech', 'BU FS DS JA', 'FS DS BR BU', 'FS XO DS BU', 'DS', 'KS DS FS XO', 'FS KS DS JA', 'FS XO DS SS BR', 'XO SS FS DS BR', 'DS XO', 'DS XO FS SS BR', 'DS FS', 'BR FS XO SS DS', 'RH', 'RH DS', 'XO DS FS', 'BR FS XO DS SS', 'BR FS DS JA', 'HS BR FS DS JA', 'XO FS SS BR', 'FS DS JA', 'BU FS BR JA DS BT', 'BR BU XO FS SS DS RH', 'BR JA DS', 'FL BR FS RH', 'BT FL BR FS RH', 'Mods', 'Mods BR XO FS DS', 'BR XO FS DS', 'BR SS', 'DS FS RH', 'DS KS BR BT FS RH', 'FS XO SS DS', 'CT RH', 'BR CT DS RH JA', 'JA DS', 'BU JA DS', 'FS SS KS', 'BR FS SS KS', 'XO BU', 'BR FS XO DS', 'DS MD', 'Lifts DS', 'BR FS SS', 'DS RH', 'DS BR RH', 'FS XO BR SS BU DS', 'BR FS BT', 'HS', 'FS JA DS', 'Jumps FS', 'BR FS XO KS', 'KS', 'FS SS DS', 'BR FS XO DS JA SS', 'BR FS XO DS JA SS BU', 'BR FS XO DS JA KS SS BU XM', 'XO FS SS', 'FS KS', 'MD', 'BR FS BT MD', 'BR FS KS', 'BR FS XO SS KS', 'BR DS RH', 'BR FS DS RH', 'Rolls DS RH', 'XO Rolls DS RH', 'Rolls FS', 'Rolls SS FS', 'BR KS', 'XO SS', 'RS', 'FS XO SS', 'BR BU', 'BU', 'FS BR DS', 'FS BR DS KS', 'DS XO BU', 'BR BT FS', 'Lifts BR BT FS', 'BU XO', 'BU XO JA DS', 'HS XO', 'NoTech / 16* 48*', 'BU JA', 'FS DS XO SS', 'RH BU', 'RH FS XO SS', 'DS JA XO', 'NoTech / 30* 30* @ 170', 'BR FS DS KS Rolls', 'SS BR BT FS DS KS Rolls', 'KS SS', 'BT', 'BT FS BU', 'BR FS XO SS', 'Lifts DS XO', 'BR XO FS SS', 'BU BR', 'FS XO BU', 'BR DS', 'BR FS DS KS', 'Multitaps XO', 'BU DS', 'DS BU', 'BR XO FS BU BT KS', 'BR FS XO', 'Rolls BR FS XO', 'BR FS XO SS BT', 'BR FS XO SS BU JA', 'BR KS BU', 'DS KS', 'FS DS KS', 'SS FS XO BR', '26* / 26* / 26* / 30* / 18* / 18*', 'FS BR XO DS SS KS BU Rolls', '40* / 72* / 44* / 19* / 34*', 'XO HS', 'BR XO FS HS', 'SPD BR XO FS HS', 'BR XO FS SS BT', 'BU BR XO FS SS BT', 'XO FS', 'BR XO FS BT', 'STR BR XO FS BU BT SS', 'JU', 'BR XO FS SS BU', 'BU BR XO FS', 'SPD BR XO FS DS BU BT SS', 'XM XO BR', 'XM BR XO FS BU', 'XM', 'XM BR', 'FS HS', 'BR XO FS HS BT BU', 'STR BR XO FS DS', 'BR XO FS BU HS SS']\n",
      "---------------------\n",
      "Difficulty_Name\n",
      "['Beginner', 'Easy', 'Medium', 'Hard', 'Challenge', 'Edit']\n",
      "---------------------\n",
      "Difficulty_Rating\n",
      "[1, 3, 6, 8, 9, 4, 10, 5, 11, 12, 14, 7, 13, 2, 15, 16]\n",
      "---------------------\n",
      "Step_Artist\n",
      "['ranatalus', 'freyja', 'dimo', 'Telperion', 'ITGAlex', 'Valex', 'Benpai', 'Ben Madsen', 'Rems', 'Chief Skittles', 'Snooze', 'Feraligatr', 'bluechows', 'drun & bkirz', 'Rems 1414', 'Rems 36*/14/14/16', 'Rems 64*/38*/40*', '-74-', 'CopperPuppy', 'dimo & ITGAlex', 'ATB', 'warpdrive', 'LEISHEN.', 'Sudzi781', 'D. Vogan', 'B. Kirzhner', 'H. Felker', 'Chief Skittles & MegaSphere', 'Exschwasion', 'TaroNuke (adapted by Exschwasion)', 'underjoy', 'Ziemniax', 'Kacpi', 'Ziemniax & Kacpi', 'EXTREME', 'Rikame', 'Blank', 'Twinsen', 'Rikame ^^', 'Tidek', 'J.Berkowitz', 'JukuGuy']\n",
      "---------------------\n",
      "Pack\n",
      "['Club Fantastic Season 1', 'Club Fantastic Season 2', 'Egg Carton', 'Egg Carton 2', 'Egg Carton 3', 'Paczka Ziemniaczka v2', \"Rikame's Simfiles\", 'The Abyss of Despair', \"Valex's Magical 4-Arrow Adventure\"]\n",
      "---------------------\n",
      "Amount_of_Notes\n",
      "[175, 160, 226, 377, 496, 155, 311, 353, 530, 570, 162, 227, 433, 625, 699, 929, 719, 494, 350, 130, 817, 206, 483, 337, 104, 527, 329, 172, 109, 57, 112, 179, 313, 453, 601, 660, 509, 407, 254, 99, 499, 747, 1080, 1186, 1595, 92, 248, 390, 566, 757, 429, 256, 197, 89, 24, 149, 187, 382, 600, 617, 488, 352, 238, 54, 215, 502, 695, 137, 196, 392, 758, 915, 1149, 1440, 1918, 2313, 2778, 273, 402, 702, 247, 156, 783, 486, 305, 180, 85, 540, 746, 233, 127, 80, 469, 297, 237, 661, 447, 243, 119, 48, 143, 232, 374, 594, 711, 168, 240, 504, 577, 829, 213, 362, 513, 698, 813, 678, 320, 185, 116, 772, 655, 461, 224, 212, 50, 300, 476, 729, 567, 363, 157, 123, 664, 648, 84, 381, 217, 358, 1555, 1375, 541, 393, 258, 539, 438, 141, 218, 336, 203, 354, 491, 666, 837, 198, 266, 415, 529, 752, 135, 500, 681, 797, 144, 295, 535, 778, 932, 100, 692, 828, 306, 582, 753, 940, 94, 220, 327, 468, 673, 236, 422, 542, 548, 573, 231, 410, 450, 536, 121, 400, 590, 78, 163, 339, 613, 647, 87, 370, 434, 118, 269, 555, 736, 980, 95, 315, 522, 710, 779, 114, 481, 659, 770, 62, 427, 586, 684, 125, 223, 412, 588, 595, 105, 207, 464, 715, 771, 385, 501, 526, 303, 607, 720, 864, 174, 389, 845, 897, 133, 286, 467, 997, 136, 289, 546, 726, 781, 222, 342, 431, 554, 145, 537, 795, 969, 96, 194, 310, 591, 581, 161, 321, 561, 714, 97, 383, 671, 674, 77, 181, 324, 532, 171, 531, 690, 682, 205, 330, 446, 475, 131, 627, 791, 1013, 176, 344, 444, 576, 113, 477, 663, 716, 101, 399, 593, 750, 773, 972, 170, 298, 816, 202, 403, 734, 812, 872, 106, 132, 270, 59, 346, 456, 560, 82, 575, 616, 191, 425, 234, 463, 568, 264, 466, 93, 167, 615, 689, 721, 891, 996, 1138, 260, 459, 869, 937, 201, 759, 900, 1063, 129, 280, 834, 288, 654, 838, 745, 67, 441, 705, 843, 863, 470, 515, 268, 323, 408, 856, 110, 445, 949, 1128, 103, 373, 668, 870, 128, 550, 701, 826, 290, 775, 777, 228, 708, 449, 739, 819, 347, 646, 806, 970, 1272, 154, 704, 760, 64, 518, 886, 357, 423, 544, 677, 1071, 159, 612, 861, 618, 844, 744, 120, 271, 676, 943, 317, 696, 751, 75, 250, 559, 474, 404, 670, 687, 107, 190, 265, 523, 294, 391, 604, 505, 669, 811, 792, 485, 873, 76, 355, 634, 279, 724, 72, 195, 762, 152, 866, 1022, 1228, 388, 209, 372, 603, 1072, 340, 448, 538, 73, 262, 549, 1105, 482, 686, 785, 810, 91, 764, 479, 652, 853, 259, 578, 713, 562, 421, 558, 299, 462, 989, 521, 229, 622, 675, 697, 371, 437, 645, 98, 368, 587, 333, 419, 623, 193, 592, 439, 730, 842, 164, 430, 524, 731, 938, 1069, 1082, 90, 308, 328, 614, 189, 931, 1108, 326, 835, 855, 876, 138, 636, 913, 134, 272, 1024, 255, 528, 662, 737, 782, 345, 743, 801, 954, 221, 650, 312, 375, 432, 610, 274, 478, 633, 452, 639, 173, 341, 640, 840, 1033, 291, 455, 643, 854, 139, 728, 749, 396, 465, 620, 319, 471, 284, 151, 512, 882, 923, 282, 435, 563, 718, 1293, 1737, 2183, 2917, 2498, 1644, 2027, 2554, 3616, 3064, 81, 165, 169, 219, 343, 1034, 275, 440, 503, 814, 150, 820, 1522, 1559, 413, 761, 424, 800, 597, 851, 1330, 1512, 287, 1526, 242, 420, 798, 941, 331, 507, 983, 988, 1000, 1109, 183, 364, 574, 857, 426, 490, 1172, 1396, 534, 732, 332, 1115, 1315, 304, 88, 767, 257, 975, 68, 451, 367, 457, 401, 140, 394, 244, 839, 46, 508, 365, 506, 86, 631, 322, 946, 230, 70, 158, 61, 776, 267, 65, 378, 251, 117, 547, 397, 1027, 63, 122, 492, 545, 436, 628, 850, 1158, 952, 1223, 1447, 1006, 1325, 1206, 1467, 1746, 1367, 1643, 632, 846, 653, 605, 1083, 1261, 606, 79, 384, 276, 589, 498, 369, 387, 56, 398, 214, 111, 115, 74, 302, 307, 186, 261, 740, 386, 416, 66, 621, 458, 241, 580, 102, 316]\n",
      "---------------------\n",
      "Amount_of_LongNotes\n",
      "[0, 14, 28, 27, 33, 15, 44, 40, 43, 49, 54, 24, 57, 48, 45, 88, 66, 20, 17, 32, 26, 36, 10, 42, 100, 18, 84, 82, 69, 75, 41, 7, 6, 51, 23, 34, 39, 89, 93, 72, 55, 8, 73, 78, 19, 70, 80, 22, 90, 92, 135, 31, 21, 11, 9, 62, 61, 16, 12, 47, 5, 25, 60, 2, 58, 13, 108, 116, 103, 4, 71, 29, 77, 79, 133, 87, 83, 56, 63, 91, 50, 76, 64, 3, 52, 1, 68, 35, 46, 94, 81, 67, 38, 124, 101, 120, 86, 121, 107, 117, 74, 59, 105, 123, 159, 30, 99, 115, 85, 104, 37, 95, 53, 111, 65, 97, 154, 112, 102, 138, 128, 110, 114, 109, 145, 113, 137, 172, 139, 132, 134, 136, 122, 126, 198, 210, 186, 239, 149, 158, 131, 98, 156, 169, 281, 197, 150, 140, 168, 253, 216, 152, 178, 164, 155, 215, 275, 237, 170, 177, 195, 204, 146]\n",
      "---------------------\n",
      "Amount_of_Rolls\n",
      "[0, 1, 33, 24, 29, 2, 7, 4, 6, 20, 17, 3, 8, 5, 14, 16, 11, 10, 12, 13, 9, 22, 52, 21, 58, 57, 54, 36, 19, 39, 37, 38, 27, 31, 15, 23]\n",
      "---------------------\n",
      "Amount_of_Mines\n",
      "[0, 4, 13, 11, 28, 42, 24, 20, 2, 38, 23, 8, 12, 6, 17, 21, 18, 9, 10, 39, 44, 29, 67, 86, 41, 16, 83, 15, 96, 45, 3, 48, 19, 33, 35, 14, 26, 34, 30, 130, 94, 115, 47, 43, 50, 46, 22, 68, 40, 59, 31, 7, 52, 37, 36, 82, 81, 58, 77, 85, 105, 51, 27, 93, 1, 62, 5, 89, 54, 109, 75, 56, 66, 61, 78, 72, 57, 53, 60, 64, 230, 32, 71, 99, 25, 114, 179, 140, 110, 141, 92, 143, 55, 276, 69, 188, 104, 122, 65, 73, 254, 101, 98, 102, 207, 201, 189, 88, 156, 167, 84, 63, 149, 134]\n",
      "---------------------\n",
      "MIN_BPM\n",
      "[133.0, 101.0, 195.0, 191.0, 170.0, 128.0, 150.0, 210.0, 138.0, 117.0, 174.0, 180.0, 140.0, 131.0, 130.0, 126.0, 160.0, 147.0, 105.0, 180.05, 220.0, 132.0, 154.0, 175.0, 202.0, 120.0, 153.0, 166.0, 155.0, 222.0, 145.0, 192.0, 95.0, 135.0, 270.0, 182.0, 110.0, 165.0, 190.0, 127.0, 167.0, 172.0, 139.0, 152.0, 125.0, 144.0, 85.0, 122.0, 106.0, 256.0, 143.0, 142.0, 145.33, 137.0, 230.0, 240.0, 156.0, 189.0, 252.0, 157.0, 123.0, 158.0, 146.0, 164.0, 137.72, 99.99, 179.0, 136.0, 260.0, 24.8, 183.0, 92.0, 200.02, 162.0, 149.0, 76.35, 124.0, 200.0, 86.29, -3.99, 0.5, 108.0, 185.0, 215.0, 0.0, 0.35, 224.0, 213.0, -2.87, 55.0, 90.0, 179.5, 1.28, 73.0, 108.01, 129.0, 94.0, 84.82, 86.5, 80.0]\n",
      "---------------------\n",
      "MAX_BPM\n",
      "[133.0, 101.0, 195.0, 191.0, 170.0, 128.0, 150.0, 210.0, 138.0, 117.0, 174.0, 180.0, 140.0, 131.0, 130.0, 126.0, 160.0, 147.0, 105.0, 180.05, 220.0, 132.0, 154.0, 175.0, 202.0, 120.0, 153.0, 166.0, 155.0, 222.0, 280.0, 145.0, 192.0, 135.0, 310.0, 182.0, 185.0, 110.0, 360.0, 190.0, 127.0, 167.0, 172.0, 139.0, 152.0, 261.0, 144.0, 85.0, 122.0, 165.0, 106.0, 256.0, 143.0, 142.0, 145.33, 137.0, 230.0, 300.0, 156.0, 189.0, 252.0, 157.0, 123.0, 158.0, 146.0, 164.0, 137.72, 103.5, 179.0, 136.0, 260.0, 87.91, 183.0, 240.0, 92.0, 200.02, 162.0, 125.0, 149.0, 160.49, 124.0, 200.0, 86.29, 120.06, 108.0, 215.0, 224.0, 213.0, 173.0, 55.0, 186.0, 179.5, 201.0, 108.01, 129.0, 94.0, 84.82]\n",
      "---------------------\n"
     ]
    }
   ],
   "source": [
    "for i in df.columns:\n",
    "    print(i)\n",
    "    print(df[i].unique().tolist())\n",
    "    print('---------------------')"
   ]
  },
  {
   "cell_type": "markdown",
   "id": "171acb9e-9bac-4b36-a825-9c159ce34e30",
   "metadata": {},
   "source": [
    "### replacing empty values with NaN"
   ]
  },
  {
   "cell_type": "code",
   "execution_count": 72,
   "id": "43a762ea-46db-4a73-b540-92745b20240c",
   "metadata": {},
   "outputs": [],
   "source": [
    "for i in df.columns:\n",
    "    df[i] = df[i].replace([' ', ''], np.nan)"
   ]
  },
  {
   "cell_type": "markdown",
   "id": "9e39b213-7937-4576-a68b-2319de726234",
   "metadata": {},
   "source": [
    "### Song_Subtitle column"
   ]
  },
  {
   "cell_type": "code",
   "execution_count": 73,
   "id": "211e6c9b-3c33-460a-9ece-936c026d099b",
   "metadata": {},
   "outputs": [],
   "source": [
    "#fixing some values\n",
    "df['Song_Subtitle'] = df['Song_Subtitle'].replace('CMOD = Easy Mode', np.nan)\n",
    "df['Song_Subtitle'] = df['Song_Subtitle'].str.replace('- ', '')\n",
    "df['Song_Subtitle'] = df['Song_Subtitle'].str.replace('[', '(')\n",
    "df['Song_Subtitle'] = df['Song_Subtitle'].str.replace(']', ')')\n",
    "\n",
    "#adding brackets in every value to make it consistent\n",
    "for i in df['Song_Subtitle']:\n",
    "    if pd.notna(i) and i.find('(') != 0:\n",
    "        df.loc[df['Song_Subtitle'] == i, 'Song_Subtitle'] = '(' + i + ')'"
   ]
  },
  {
   "cell_type": "markdown",
   "id": "39fd7496-4e6b-4d9f-bfe4-96ebe86b3190",
   "metadata": {},
   "source": [
    "### Song_Length column"
   ]
  },
  {
   "cell_type": "code",
   "execution_count": 74,
   "id": "66186c34-1c3d-4845-9b63-5ed485e94013",
   "metadata": {},
   "outputs": [],
   "source": [
    "#deleting rows with 0, that data is useless and not correct\n",
    "df = df[df['Song_Length'] != 0].reset_index(drop = True)\n",
    "#changing column name to precise timeformat\n",
    "df = df.rename(columns = {'Song_Length': 'Song_Length_(seconds)'})"
   ]
  },
  {
   "cell_type": "markdown",
   "id": "8a8d537d-1784-41e0-986c-4d4851d0ccc6",
   "metadata": {},
   "source": [
    "### Song_BPM column"
   ]
  },
  {
   "cell_type": "code",
   "execution_count": 75,
   "id": "da254d25-165d-4dac-bd89-37e2d59e9e0c",
   "metadata": {},
   "outputs": [],
   "source": [
    "#divide bpm column into bpm max and bpm min\n",
    "def BPMslice(value):\n",
    "    index = value.find(' - ')\n",
    "    if index != -1:\n",
    "        min_bpm = value[:index]\n",
    "        max_bpm = value[index + 3:]\n",
    "    else:\n",
    "        min_bpm = value\n",
    "        max_bpm = value\n",
    "    return pd.Series([min_bpm, max_bpm])\n",
    "\n",
    "df[['MIN_BPM', 'MAX_BPM']] = df['Song_BPM'].apply(BPMslice)"
   ]
  },
  {
   "cell_type": "code",
   "execution_count": 76,
   "id": "50c3e803-8411-4438-97f5-0b4f29bd6be9",
   "metadata": {},
   "outputs": [],
   "source": [
    "#deleting Song_BPM column, we dont need it anymore\n",
    "df = df.drop(columns = 'Song_BPM')"
   ]
  },
  {
   "cell_type": "code",
   "execution_count": 77,
   "id": "d40bf0cc-f478-4a91-8f7e-37e1e190eb44",
   "metadata": {},
   "outputs": [],
   "source": [
    "#converting Dtype to float\n",
    "df['MIN_BPM'] = df['MIN_BPM'].str.replace(',', '.').astype(float)\n",
    "df['MAX_BPM'] = df['MAX_BPM'].str.replace(',', '.').astype(float)"
   ]
  },
  {
   "cell_type": "markdown",
   "id": "49071f8e-b39c-403e-a4b7-656ab9fa462d",
   "metadata": {},
   "source": [
    "### Technical_Notation column"
   ]
  },
  {
   "cell_type": "code",
   "execution_count": 78,
   "id": "cfaeba2a-bcce-45e8-83d0-84246e732db2",
   "metadata": {},
   "outputs": [],
   "source": [
    "#there is a lot of random data, will focus only on important inconsistent values that will be used to analyze (for example which pack have the most charts with \"BR\" notation)\n",
    "df['Technical_Notation'] = (\n",
    "    df['Technical_Notation']\n",
    "    .str.replace('XMOD', 'XM')\n",
    "    .str.replace('No Tech', 'NoTech')\n",
    "    .str.replace('+', '')\n",
    "    .str.replace('-', '')\n",
    "    .str.replace('BXF', 'BR XO FS') #BXF is a shortcut for \"BR XO FS\" in stepmania\n",
    ")"
   ]
  },
  {
   "cell_type": "markdown",
   "id": "fe4e962f-6f20-4625-b3c4-e02d61db0b96",
   "metadata": {},
   "source": [
    "### Type column"
   ]
  },
  {
   "cell_type": "code",
   "execution_count": 79,
   "id": "2e901299-08a3-4b86-bf84-bd71e7e319a1",
   "metadata": {},
   "outputs": [],
   "source": [
    "#I will focus mostly on data with single type because there is too little data for double chart type\n",
    "df = df[df['Type'] == 'single'] #deleting all double type columns\n",
    "df = df.drop(columns = 'Type') #deleting Type column, we dont need it anymore"
   ]
  },
  {
   "cell_type": "code",
   "execution_count": 80,
   "id": "896c9abd-bc09-4383-8fd7-b3cd42b8089f",
   "metadata": {},
   "outputs": [],
   "source": [
    "#reseting indexes and strip columns again after changing things all the string things (just for sure)\n",
    "df.reset_index(drop = True, inplace = True)\n",
    "for i in df.select_dtypes(include = 'object').columns:\n",
    "    df[i] = df[i].str.strip()"
   ]
  },
  {
   "cell_type": "markdown",
   "id": "39c721a6-681c-41ef-9bad-5a58948d026f",
   "metadata": {
    "jp-MarkdownHeadingCollapsed": true
   },
   "source": [
    "# Data analysis"
   ]
  },
  {
   "cell_type": "markdown",
   "id": "ca93cd9c-e2d5-4c06-ab0d-f02b4c55cd03",
   "metadata": {
    "jp-MarkdownHeadingCollapsed": true
   },
   "source": [
    "## 1. What is the distribution of song lengths in terms of seconds?"
   ]
  },
  {
   "cell_type": "code",
   "execution_count": 81,
   "id": "f84fef31-5311-4e05-9870-d77fdb671905",
   "metadata": {},
   "outputs": [],
   "source": [
    "# function for print probably in every question\n",
    "def print_sample(x: str) -> str:\n",
    "    center = x.center(150)\n",
    "    text = print(150*'-', '\\n', center, '\\n', 150*'-')\n",
    "    return text"
   ]
  },
  {
   "cell_type": "code",
   "execution_count": 82,
   "id": "4324dcfb-efe9-4b74-b1cb-09bd0030b222",
   "metadata": {},
   "outputs": [
    {
     "name": "stdout",
     "output_type": "stream",
     "text": [
      "------------------------------------------------------------------------------------------------------------------------------------------------------ \n",
      "                                        The most often song length used in charts is between 120 and 140 seconds                                        \n",
      " ------------------------------------------------------------------------------------------------------------------------------------------------------\n"
     ]
    },
    {
     "data": {
      "image/png": "[encoded data removed]",
      "text/plain": [
       "<Figure size 640x480 with 1 Axes>"
      ]
     },
     "metadata": {},
     "output_type": "display_data"
    }
   ],
   "source": [
    "df_question1 = df.drop_duplicates(subset = 'Song_Title')\n",
    "\n",
    "sns.histplot(df_question1['Song_Length_(seconds)'], bins = 24, color = 'blue')\n",
    "plt.xticks(ticks = range(0,240,20))\n",
    "plt.xlim(50,250)\n",
    "plt.xlabel('Song Length (sec)')\n",
    "plt.title('Song distribution in data by Song_Length')\n",
    "plt.grid(True)\n",
    "print_sample('The most often song length used in charts is between 120 and 140 seconds')\n",
    "plt.show()"
   ]
  },
  {
   "cell_type": "markdown",
   "id": "82cb634b-8d1e-4ba8-abdd-e3f4aee2725f",
   "metadata": {
    "jp-MarkdownHeadingCollapsed": true
   },
   "source": [
    "## 2. What is the most often used difficulty rating in every difficulty name?"
   ]
  },
  {
   "cell_type": "code",
   "execution_count": 83,
   "id": "e4123e2f-bd20-4ed4-b333-111797bb3d12",
   "metadata": {},
   "outputs": [
    {
     "name": "stdout",
     "output_type": "stream",
     "text": [
      "------------------------------------------------------------------------------------------------------------------------------------------------------ \n",
      "          The difficulty distribution between difficulties is pretty clean, we can notice that at level of 11 there are 3 kind of difficulties          \n",
      " ------------------------------------------------------------------------------------------------------------------------------------------------------\n"
     ]
    },
    {
     "data": {
      "image/png": "[encoded data removed]",
      "text/plain": [
       "<Figure size 640x480 with 1 Axes>"
      ]
     },
     "metadata": {},
     "output_type": "display_data"
    },
    {
     "name": "stdout",
     "output_type": "stream",
     "text": [
      "------------------------------------------------------------------------------------------------------------------------------------------------------ \n",
      "                                                                       Table view                                                                       \n",
      " ------------------------------------------------------------------------------------------------------------------------------------------------------\n"
     ]
    },
    {
     "data": {
      "text/html": [
       "<div>\n",
       "<style scoped>\n",
       "    .dataframe tbody tr th:only-of-type {\n",
       "        vertical-align: middle;\n",
       "    }\n",
       "\n",
       "    .dataframe tbody tr th {\n",
       "        vertical-align: top;\n",
       "    }\n",
       "\n",
       "    .dataframe thead th {\n",
       "        text-align: right;\n",
       "    }\n",
       "</style>\n",
       "<table border=\"1\" class=\"dataframe\">\n",
       "  <thead>\n",
       "    <tr style=\"text-align: right;\">\n",
       "      <th></th>\n",
       "      <th>Difficulty_Name</th>\n",
       "      <th>Difficulty_Rating</th>\n",
       "      <th>Total_of_Charts</th>\n",
       "    </tr>\n",
       "  </thead>\n",
       "  <tbody>\n",
       "    <tr>\n",
       "      <th>0</th>\n",
       "      <td>Beginner</td>\n",
       "      <td>1</td>\n",
       "      <td>91</td>\n",
       "    </tr>\n",
       "    <tr>\n",
       "      <th>1</th>\n",
       "      <td>Beginner</td>\n",
       "      <td>2</td>\n",
       "      <td>81</td>\n",
       "    </tr>\n",
       "    <tr>\n",
       "      <th>2</th>\n",
       "      <td>Beginner</td>\n",
       "      <td>3</td>\n",
       "      <td>29</td>\n",
       "    </tr>\n",
       "    <tr>\n",
       "      <th>3</th>\n",
       "      <td>Easy</td>\n",
       "      <td>4</td>\n",
       "      <td>77</td>\n",
       "    </tr>\n",
       "    <tr>\n",
       "      <th>4</th>\n",
       "      <td>Easy</td>\n",
       "      <td>3</td>\n",
       "      <td>50</td>\n",
       "    </tr>\n",
       "    <tr>\n",
       "      <th>5</th>\n",
       "      <td>Easy</td>\n",
       "      <td>5</td>\n",
       "      <td>44</td>\n",
       "    </tr>\n",
       "    <tr>\n",
       "      <th>6</th>\n",
       "      <td>Medium</td>\n",
       "      <td>7</td>\n",
       "      <td>55</td>\n",
       "    </tr>\n",
       "    <tr>\n",
       "      <th>7</th>\n",
       "      <td>Medium</td>\n",
       "      <td>6</td>\n",
       "      <td>49</td>\n",
       "    </tr>\n",
       "    <tr>\n",
       "      <th>8</th>\n",
       "      <td>Medium</td>\n",
       "      <td>8</td>\n",
       "      <td>45</td>\n",
       "    </tr>\n",
       "    <tr>\n",
       "      <th>9</th>\n",
       "      <td>Hard</td>\n",
       "      <td>9</td>\n",
       "      <td>64</td>\n",
       "    </tr>\n",
       "    <tr>\n",
       "      <th>10</th>\n",
       "      <td>Hard</td>\n",
       "      <td>11</td>\n",
       "      <td>51</td>\n",
       "    </tr>\n",
       "    <tr>\n",
       "      <th>11</th>\n",
       "      <td>Hard</td>\n",
       "      <td>10</td>\n",
       "      <td>43</td>\n",
       "    </tr>\n",
       "    <tr>\n",
       "      <th>12</th>\n",
       "      <td>Challenge</td>\n",
       "      <td>11</td>\n",
       "      <td>50</td>\n",
       "    </tr>\n",
       "    <tr>\n",
       "      <th>13</th>\n",
       "      <td>Challenge</td>\n",
       "      <td>13</td>\n",
       "      <td>48</td>\n",
       "    </tr>\n",
       "    <tr>\n",
       "      <th>14</th>\n",
       "      <td>Challenge</td>\n",
       "      <td>12</td>\n",
       "      <td>46</td>\n",
       "    </tr>\n",
       "    <tr>\n",
       "      <th>15</th>\n",
       "      <td>Edit</td>\n",
       "      <td>12</td>\n",
       "      <td>19</td>\n",
       "    </tr>\n",
       "    <tr>\n",
       "      <th>16</th>\n",
       "      <td>Edit</td>\n",
       "      <td>13</td>\n",
       "      <td>11</td>\n",
       "    </tr>\n",
       "    <tr>\n",
       "      <th>17</th>\n",
       "      <td>Edit</td>\n",
       "      <td>11</td>\n",
       "      <td>7</td>\n",
       "    </tr>\n",
       "  </tbody>\n",
       "</table>\n",
       "</div>"
      ],
      "text/plain": [
       "   Difficulty_Name  Difficulty_Rating  Total_of_Charts\n",
       "0         Beginner                  1               91\n",
       "1         Beginner                  2               81\n",
       "2         Beginner                  3               29\n",
       "3             Easy                  4               77\n",
       "4             Easy                  3               50\n",
       "5             Easy                  5               44\n",
       "6           Medium                  7               55\n",
       "7           Medium                  6               49\n",
       "8           Medium                  8               45\n",
       "9             Hard                  9               64\n",
       "10            Hard                 11               51\n",
       "11            Hard                 10               43\n",
       "12       Challenge                 11               50\n",
       "13       Challenge                 13               48\n",
       "14       Challenge                 12               46\n",
       "15            Edit                 12               19\n",
       "16            Edit                 13               11\n",
       "17            Edit                 11                7"
      ]
     },
     "execution_count": 83,
     "metadata": {},
     "output_type": "execute_result"
    }
   ],
   "source": [
    "difficulty_order = {\n",
    "    'Beginner': 0,\n",
    "    'Easy': 1,\n",
    "    'Medium': 2,\n",
    "    'Hard': 3,\n",
    "    'Challenge': 4,\n",
    "    'Edit': 5\n",
    "}\n",
    "\n",
    "df_question2 = df.groupby(['Difficulty_Name', 'Difficulty_Rating']).agg(\n",
    "    Total_of_Charts = ('Chart_ID', 'count')\n",
    ").reset_index()\n",
    "\n",
    "df_question2['Difficulty_Name_Order'] = df_question2['Difficulty_Name'].map(difficulty_order)\n",
    "\n",
    "df_question2 = df_question2.sort_values(['Difficulty_Name_Order', 'Total_of_Charts'], ascending = [True, False]).groupby('Difficulty_Name').head(3)\n",
    "\n",
    "sns.barplot(data = df_question2, x = 'Difficulty_Rating', y='Total_of_Charts', hue = 'Difficulty_Name')\n",
    "plt.xlabel('Difficulty Rating')\n",
    "plt.ylabel('Charts Total')\n",
    "plt.legend(title = 'Difficulty Name')\n",
    "plt.title('Top 3 difficulty ratings used for every difficulty')\n",
    "print_sample('The difficulty distribution between difficulties is pretty clean, we can notice that at level of 11 there are 3 kind of difficulties')\n",
    "plt.show()\n",
    "print_sample('Table view') \n",
    "df_question2.drop(columns = 'Difficulty_Name_Order').reset_index(drop = True)"
   ]
  },
  {
   "cell_type": "markdown",
   "id": "3916bc80-cd91-4bc7-8781-86abf2c1cb24",
   "metadata": {
    "jp-MarkdownHeadingCollapsed": true
   },
   "source": [
    "## 3. Higher difficulty = higher BPM?"
   ]
  },
  {
   "cell_type": "code",
   "execution_count": 84,
   "id": "d7570ee8-6543-4d14-9319-417ef3a420f4",
   "metadata": {},
   "outputs": [
    {
     "name": "stdout",
     "output_type": "stream",
     "text": [
      "------------------------------------------------------------------------------------------------------------------------------------------------------ \n",
      "                                             Indeed, Step Artists make harder charts when the BPM is higher                                             \n",
      " ------------------------------------------------------------------------------------------------------------------------------------------------------\n"
     ]
    },
    {
     "data": {
      "image/png": "[encoded data removed]",
      "text/plain": [
       "<Figure size 640x480 with 1 Axes>"
      ]
     },
     "metadata": {},
     "output_type": "display_data"
    }
   ],
   "source": [
    "#I will use only top difficulty (Challenge) for that analyzis, because thats a hardest difficulty for each songs, lower difficulties MUST be done, so I wont consider it\n",
    "df_question3 = df[df['Difficulty_Name'] == 'Challenge']\n",
    "df_question3_grouped = df_question3.groupby('Difficulty_Rating').agg(\n",
    "    Avarage_BPM = ('MAX_BPM', 'mean')\n",
    ")\n",
    "\n",
    "df_question3_grouped.plot(kind = 'bar')\n",
    "plt.xlabel('Difficulty Rating (only top difficulties)')\n",
    "plt.ylabel('BPM')\n",
    "plt.ylim(100,250)\n",
    "plt.title('Avarage BPM vs Difficulty Rating')\n",
    "print_sample('Indeed, Step Artists make harder charts when the BPM is higher')\n",
    "plt.show()"
   ]
  },
  {
   "cell_type": "markdown",
   "id": "8630ee6e-14b9-4d2f-9e41-087322b762af",
   "metadata": {
    "jp-MarkdownHeadingCollapsed": true
   },
   "source": [
    "## 4. What are the most common Technical Notations used in charts?"
   ]
  },
  {
   "cell_type": "code",
   "execution_count": 85,
   "id": "a42c2bb5-067e-4e6d-8d7f-dcd629590596",
   "metadata": {},
   "outputs": [
    {
     "name": "stdout",
     "output_type": "stream",
     "text": [
      "------------------------------------------------------------------------------------------------------------------------------------------------------ \n",
      "             FS is the most represented Tech in charts, but we should notice that a lot of Step Artists do not write any notation (Unknown)             \n",
      " ------------------------------------------------------------------------------------------------------------------------------------------------------\n"
     ]
    },
    {
     "data": {
      "image/png": "[encoded data removed]",
      "text/plain": [
       "<Figure size 640x480 with 1 Axes>"
      ]
     },
     "metadata": {},
     "output_type": "display_data"
    }
   ],
   "source": [
    "#for that question I will use charts with difficulty rating 9 and above, because Technical Notations are rarely used in lower difficulties\n",
    "df_question4 = df[df['Difficulty_Rating'] >= 9]\n",
    "df_question4.loc[df_question4['Technical_Notation'].isna(), 'Technical_Notation'] = 'Unknown'\n",
    "\n",
    "Notations = ['BR', 'XO', 'FS', 'SS', 'DS', 'Unknown']\n",
    "Results = []\n",
    "\n",
    "for i in Notations:\n",
    "    Number_of_Charts = df_question4[df_question4['Technical_Notation'].str.contains(i, na=False)]['Chart_ID'].count()\n",
    "    Results.append({'Notation': i, 'Total Charts': Number_of_Charts})\n",
    "\n",
    "Number_of_Charts = df_question4[~df_question4['Technical_Notation'].str.contains('BR|XO|FS|SS|DS|Unknown', na=False)]['Chart_ID'].count()\n",
    "Results.append({'Notation': 'Other', 'Total Charts': Number_of_Charts})\n",
    "\n",
    "df4 = pd.DataFrame(Results)\n",
    "\n",
    "sns.barplot(data = df4, x = 'Notation', y = 'Total Charts', hue = 'Notation')\n",
    "plt.grid(True)\n",
    "plt.title('Number of charts that use certain notation')\n",
    "print_sample('FS is the most represented Tech in charts, but we should notice that a lot of Step Artists do not write any notation (Unknown)')\n",
    "plt.show()"
   ]
  },
  {
   "cell_type": "markdown",
   "id": "d23dc957-46d6-4be0-a5ee-8c001200e9db",
   "metadata": {
    "jp-MarkdownHeadingCollapsed": true
   },
   "source": [
    "## 5. Avarage Notes (Total amount of notes) per Second in each difficulty rating"
   ]
  },
  {
   "cell_type": "code",
   "execution_count": 86,
   "id": "63c742a2-fb15-4336-b429-fdd44bcc37ba",
   "metadata": {},
   "outputs": [
    {
     "name": "stdout",
     "output_type": "stream",
     "text": [
      "------------------------------------------------------------------------------------------------------------------------------------------------------ \n",
      "               Nothing surprising here, the only anomaly is 16 rating but I think its because of too low amount of data in that scenario                \n",
      " ------------------------------------------------------------------------------------------------------------------------------------------------------\n"
     ]
    },
    {
     "data": {
      "image/png": "[encoded data removed]",
      "text/plain": [
       "<Figure size 640x480 with 1 Axes>"
      ]
     },
     "metadata": {},
     "output_type": "display_data"
    }
   ],
   "source": [
    "df_question5 = df.copy()\n",
    "# Adding all the objects (notes, longnotes and rolls)\n",
    "df_question5['Total_Amount_of_Objects'] = df_question5['Amount_of_Notes'] + df_question5['Amount_of_LongNotes'] + df_question5['Amount_of_Rolls']\n",
    "# Notes per second = count/seconds\n",
    "df_question5['Object_per_Second'] = round(df_question5['Total_Amount_of_Objects'] / df_question5['Song_Length_(seconds)'], 2)\n",
    "\n",
    "df_question5_grouped = df_question5.groupby('Difficulty_Rating')['Object_per_Second'].mean().reset_index()\n",
    "df_question5_grouped\n",
    "\n",
    "sns.lineplot(data = df_question5_grouped, x = 'Difficulty_Rating', y = 'Object_per_Second', marker = 'o', linestyle = '--', color = 'red')\n",
    "plt.xticks(ticks = range(1,17,1))\n",
    "plt.xlabel('Difficulty Rating')\n",
    "plt.ylabel('Notes per Second')\n",
    "plt.title('Amount of objects per second in each difficulty rating')\n",
    "plt.grid(True)\n",
    "print_sample('Nothing surprising here, the only anomaly is 16 rating but I think its because of too low amount of data in that scenario')\n",
    "plt.show()"
   ]
  },
  {
   "cell_type": "markdown",
   "id": "c3c6edaa-902d-4b25-b227-3d33c46c5dcd",
   "metadata": {
    "jp-MarkdownHeadingCollapsed": true
   },
   "source": [
    "## 6. Avarage difficulty rating by each difficulty name in each pack"
   ]
  },
  {
   "cell_type": "code",
   "execution_count": 87,
   "id": "7a1280d9-5f3e-49d2-892a-59b79aef0151",
   "metadata": {},
   "outputs": [
    {
     "name": "stdout",
     "output_type": "stream",
     "text": [
      "------------------------------------------------------------------------------------------------------------------------------------------------------ \n",
      "                                          Looks like Valex's Pack have the easiest charts in every difficulty                                           \n",
      " ------------------------------------------------------------------------------------------------------------------------------------------------------\n"
     ]
    },
    {
     "data": {
      "image/png": "[encoded data removed]",
      "text/plain": [
       "<Figure size 640x480 with 1 Axes>"
      ]
     },
     "metadata": {},
     "output_type": "display_data"
    }
   ],
   "source": [
    "# Calculating avg difficulty rating in each difficulty in each pack\n",
    "df_question6 = df.groupby(['Pack', 'Difficulty_Name'])['Difficulty_Rating'].mean().reset_index()\n",
    "\n",
    "df_question6['Difficulty_Name_Order'] = df_question6['Difficulty_Name'].map(difficulty_order)\n",
    "df_question6 = df_question6.sort_values(['Pack', 'Difficulty_Name_Order'], ascending = [True, True])\n",
    "df_question6.drop(columns = 'Difficulty_Name_Order', inplace = True)\n",
    "df_question6.reset_index(inplace = True, drop = True)\n",
    "\n",
    "sns.barplot(data = df_question6, x = 'Difficulty_Name', y = 'Difficulty_Rating', hue = 'Pack')\n",
    "plt.legend(title = 'Pack', loc = 'upper left', fontsize = 7)\n",
    "plt.ylabel('AVG Difficulty Rating')\n",
    "plt.xlabel('Difficulty Name')\n",
    "plt.title('Avarage Difficulty distribution in each Pack')\n",
    "print_sample(\"Looks like Valex's Pack have the easiest charts in every difficulty\")\n",
    "plt.show()"
   ]
  },
  {
   "cell_type": "markdown",
   "id": "9af2ef52-0808-4aa7-a1f1-7fe6032ef84c",
   "metadata": {
    "jp-MarkdownHeadingCollapsed": true
   },
   "source": [
    "## 7. Statistics for top 10 Step Artists (by number of charts)"
   ]
  },
  {
   "cell_type": "code",
   "execution_count": 88,
   "id": "694bce12-935e-4552-b4f8-fb65f357791e",
   "metadata": {},
   "outputs": [
    {
     "name": "stdout",
     "output_type": "stream",
     "text": [
      "------------------------------------------------------------------------------------------------------------------------------------------------------ \n",
      "                                            Ready statistics for top10 charters by number of charts in table                                            \n",
      " ------------------------------------------------------------------------------------------------------------------------------------------------------\n"
     ]
    },
    {
     "data": {
      "text/html": [
       "<div>\n",
       "<style scoped>\n",
       "    .dataframe tbody tr th:only-of-type {\n",
       "        vertical-align: middle;\n",
       "    }\n",
       "\n",
       "    .dataframe tbody tr th {\n",
       "        vertical-align: top;\n",
       "    }\n",
       "\n",
       "    .dataframe thead th {\n",
       "        text-align: right;\n",
       "    }\n",
       "</style>\n",
       "<table border=\"1\" class=\"dataframe\">\n",
       "  <thead>\n",
       "    <tr style=\"text-align: right;\">\n",
       "      <th></th>\n",
       "      <th>Count_of_Charts</th>\n",
       "      <th>AVG_difficulty</th>\n",
       "      <th>AVG_of_objects_placed</th>\n",
       "      <th>AVG_Song_Length</th>\n",
       "    </tr>\n",
       "    <tr>\n",
       "      <th>Step_Artist</th>\n",
       "      <th></th>\n",
       "      <th></th>\n",
       "      <th></th>\n",
       "      <th></th>\n",
       "    </tr>\n",
       "  </thead>\n",
       "  <tbody>\n",
       "    <tr>\n",
       "      <th>Exschwasion</th>\n",
       "      <td>658</td>\n",
       "      <td>7.72</td>\n",
       "      <td>543.17</td>\n",
       "      <td>137.20</td>\n",
       "    </tr>\n",
       "    <tr>\n",
       "      <th>Rikame</th>\n",
       "      <td>122</td>\n",
       "      <td>6.67</td>\n",
       "      <td>395.46</td>\n",
       "      <td>127.01</td>\n",
       "    </tr>\n",
       "    <tr>\n",
       "      <th>underjoy</th>\n",
       "      <td>95</td>\n",
       "      <td>7.06</td>\n",
       "      <td>538.17</td>\n",
       "      <td>135.20</td>\n",
       "    </tr>\n",
       "    <tr>\n",
       "      <th>J.Berkowitz</th>\n",
       "      <td>86</td>\n",
       "      <td>5.79</td>\n",
       "      <td>322.37</td>\n",
       "      <td>119.36</td>\n",
       "    </tr>\n",
       "    <tr>\n",
       "      <th>Tidek</th>\n",
       "      <td>36</td>\n",
       "      <td>10.14</td>\n",
       "      <td>1042.61</td>\n",
       "      <td>216.83</td>\n",
       "    </tr>\n",
       "    <tr>\n",
       "      <th>dimo</th>\n",
       "      <td>18</td>\n",
       "      <td>6.33</td>\n",
       "      <td>363.11</td>\n",
       "      <td>129.56</td>\n",
       "    </tr>\n",
       "    <tr>\n",
       "      <th>ITGAlex</th>\n",
       "      <td>15</td>\n",
       "      <td>6.93</td>\n",
       "      <td>403.13</td>\n",
       "      <td>130.67</td>\n",
       "    </tr>\n",
       "    <tr>\n",
       "      <th>ranatalus</th>\n",
       "      <td>15</td>\n",
       "      <td>4.73</td>\n",
       "      <td>282.67</td>\n",
       "      <td>128.07</td>\n",
       "    </tr>\n",
       "    <tr>\n",
       "      <th>bluechows</th>\n",
       "      <td>11</td>\n",
       "      <td>7.55</td>\n",
       "      <td>403.27</td>\n",
       "      <td>127.18</td>\n",
       "    </tr>\n",
       "    <tr>\n",
       "      <th>Valex</th>\n",
       "      <td>11</td>\n",
       "      <td>7.36</td>\n",
       "      <td>424.91</td>\n",
       "      <td>116.18</td>\n",
       "    </tr>\n",
       "  </tbody>\n",
       "</table>\n",
       "</div>"
      ],
      "text/plain": [
       "             Count_of_Charts  AVG_difficulty  AVG_of_objects_placed  \\\n",
       "Step_Artist                                                           \n",
       "Exschwasion              658            7.72                 543.17   \n",
       "Rikame                   122            6.67                 395.46   \n",
       "underjoy                  95            7.06                 538.17   \n",
       "J.Berkowitz               86            5.79                 322.37   \n",
       "Tidek                     36           10.14                1042.61   \n",
       "dimo                      18            6.33                 363.11   \n",
       "ITGAlex                   15            6.93                 403.13   \n",
       "ranatalus                 15            4.73                 282.67   \n",
       "bluechows                 11            7.55                 403.27   \n",
       "Valex                     11            7.36                 424.91   \n",
       "\n",
       "             AVG_Song_Length  \n",
       "Step_Artist                   \n",
       "Exschwasion           137.20  \n",
       "Rikame                127.01  \n",
       "underjoy              135.20  \n",
       "J.Berkowitz           119.36  \n",
       "Tidek                 216.83  \n",
       "dimo                  129.56  \n",
       "ITGAlex               130.67  \n",
       "ranatalus             128.07  \n",
       "bluechows             127.18  \n",
       "Valex                 116.18  "
      ]
     },
     "execution_count": 88,
     "metadata": {},
     "output_type": "execute_result"
    }
   ],
   "source": [
    "df_question7 = df.copy()\n",
    "df_question7['Total_Amount_of_Objects'] = df_question7['Amount_of_Notes'] + df_question7['Amount_of_LongNotes'] + df_question7['Amount_of_Rolls']\n",
    "\n",
    "df_question7 = df_question7.groupby('Step_Artist').agg(\n",
    "    Count_of_Charts = ('Chart_ID', 'count'),\n",
    "    AVG_difficulty = ('Difficulty_Rating', 'mean'),\n",
    "    AVG_of_objects_placed = ('Total_Amount_of_Objects', 'mean'),\n",
    "    AVG_Song_Length = ('Song_Length_(seconds)', 'mean')\n",
    ")\n",
    "\n",
    "df_question7 = df_question7.sort_values('Count_of_Charts', ascending = False).head(10)\n",
    "print_sample('Ready statistics for top10 charters by number of charts in table')\n",
    "round(df_question7,2)"
   ]
  },
  {
   "cell_type": "markdown",
   "id": "c77ac727-ab16-428f-8367-cc7ce074b070",
   "metadata": {
    "jp-MarkdownHeadingCollapsed": true
   },
   "source": [
    "## 8. Higher BPM = Shorter song?"
   ]
  },
  {
   "cell_type": "code",
   "execution_count": 89,
   "id": "8321136c-f779-45b8-9fd1-773a9ae56d5b",
   "metadata": {},
   "outputs": [
    {
     "name": "stdout",
     "output_type": "stream",
     "text": [
      "------------------------------------------------------------------------------------------------------------------------------------------------------ \n",
      "                                                       Looks like there is no correlation at all                                                        \n",
      " ------------------------------------------------------------------------------------------------------------------------------------------------------\n"
     ]
    },
    {
     "data": {
      "image/png": "[encoded data removed]",
      "text/plain": [
       "<Figure size 640x480 with 1 Axes>"
      ]
     },
     "metadata": {},
     "output_type": "display_data"
    }
   ],
   "source": [
    "df_question8 = df.copy()\n",
    "\n",
    "df_question8 = df_question8.groupby('MAX_BPM').agg(\n",
    "    AVG_Song_Length = ('Song_Length_(seconds)', 'mean')).reset_index()\n",
    "\n",
    "sns.lineplot(data = df_question8, x = 'MAX_BPM', y = 'AVG_Song_Length', color = 'red')\n",
    "plt.xticks(ticks = range(100,241,10), rotation = 45)\n",
    "plt.xlim(100,200)\n",
    "plt.ylim(50,220)\n",
    "plt.xlabel('Song BPM')\n",
    "plt.ylabel('AVF Song Length')\n",
    "print_sample('Looks like there is no correlation at all')\n",
    "plt.show()"
   ]
  },
  {
   "cell_type": "code",
   "execution_count": null,
   "id": "cc518ed0-34a8-4c90-a1e7-9fc311239b89",
   "metadata": {},
   "outputs": [],
   "source": []
  }
 ],
 "metadata": {
  "kernelspec": {
   "display_name": "Python 3 (ipykernel)",
   "language": "python",
   "name": "python3"
  },
  "language_info": {
   "codemirror_mode": {
    "name": "ipython",
    "version": 3
   },
   "file_extension": ".py",
   "mimetype": "text/x-python",
   "name": "python",
   "nbconvert_exporter": "python",
   "pygments_lexer": "ipython3",
   "version": "3.12.7"
  }
 },
 "nbformat": 4,
 "nbformat_minor": 5
}
